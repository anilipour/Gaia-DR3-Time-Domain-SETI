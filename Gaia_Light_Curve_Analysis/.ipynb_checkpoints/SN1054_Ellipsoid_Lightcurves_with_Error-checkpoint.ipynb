{
 "cells": [
  {
   "cell_type": "markdown",
   "metadata": {},
   "source": [
    "# Ellipsoid Lightcurves with Error\n",
    "\n",
    "This notebook is used for viewing the light curves of stars that have crossed the SETI Ellipsoid for SN1054 during Gaia DR3 observation time period, including the error in crossing time"
   ]
  },
  {
   "cell_type": "code",
   "execution_count": 2,
   "metadata": {},
   "outputs": [],
   "source": [
    "%matplotlib inline\n",
    "\n",
    "import matplotlib.pyplot as plt\n",
    "import numpy as np\n",
    "\n",
    "from astropy.coordinates import SkyCoord\n",
    "import astropy.coordinates as coord\n",
    "from astropy import constants as const\n",
    "from astropy import units as u\n",
    "from astropy.time import Time\n",
    "from astropy.table import Table, QTable, vstack\n",
    "import os\n",
    "\n",
    "from astroquery.gaia import Gaia\n",
    "\n",
    "import sys\n",
    "sys.path.append('..')\n",
    "import ellipsoid\n",
    "\n",
    "from astropy.timeseries import LombScargle, TimeSeries\n",
    "import random"
   ]
  },
  {
   "cell_type": "markdown",
   "metadata": {},
   "source": [
    "### Read in the desired file and set global parameters\n",
    "If using the ```ellipsoid.py``` script to download Gaia data, the file names are:\n",
    "\n",
    "```GCNS_var``` -- variable stars in GCNS\n",
    "\n",
    "```Gaia_var``` -- variable stars in Gaia DR3\n",
    "\n",
    "```GCNS``` -- stars in GCNS\n",
    "\n",
    "```Gaia``` -- stars in Gaia DR3\n",
    "\n",
    "The tolerance is in lightyears, and the default start time is the time of the first Gaia alert"
   ]
  },
  {
   "cell_type": "code",
   "execution_count": 3,
   "metadata": {},
   "outputs": [],
   "source": [
    "file_name = '../Gaia_var_class'\n",
    "c1, stars = ellipsoid.readFile(file_name)\n",
    "tol = 0.1"
   ]
  },
  {
   "cell_type": "markdown",
   "metadata": {},
   "source": [
    "The default event (i.e. the second focal point of the SETI Ellipsoid) is SN1054 for this notebook, and its parameters are set below"
   ]
  },
  {
   "cell_type": "code",
   "execution_count": 4,
   "metadata": {},
   "outputs": [
    {
     "name": "stderr",
     "output_type": "stream",
     "text": [
      "/mnt_home/anilipour/setiellipsoid/setienv/lib/python3.7/site-packages/erfa/core.py:155: ErfaWarning: ERFA function \"dtf2d\" yielded 1 of \"dubious year (Note 6)\"\n",
      "  ErfaWarning)\n"
     ]
    }
   ],
   "source": [
    "# Properties of SN1054 (Crab Nebula)\n",
    "t0 = Time({'year': 1054, 'month': 7, 'day': 4}, format='ymdhms')\n",
    "\n",
    "c0_radec = SkyCoord.from_name('SN 1054')\n",
    "\n",
    "# https://vizier.cds.unistra.fr/viz-bin/VizieR-4 database (photogeometric distance)\n",
    "d0 = 1899.33655000 * u.pc\n",
    "d0_err = (2193.16919000-1711.93213000)/2 * u.pc\n",
    "\n",
    "c0 = SkyCoord(ra=c0_radec.ra, dec=c0_radec.dec, distance=d0)"
   ]
  },
  {
   "cell_type": "code",
   "execution_count": 5,
   "metadata": {},
   "outputs": [
    {
     "data": {
      "text/plain": [
       "9322432"
      ]
     },
     "execution_count": 5,
     "metadata": {},
     "output_type": "execute_result"
    }
   ],
   "source": [
    "len(c1)"
   ]
  },
  {
   "cell_type": "markdown",
   "metadata": {},
   "source": [
    "### Get table of crossing stars\n",
    "\n",
    "```c1_x``` contains astropy SkyCoord objects of each star that has crossed (within some tolerance) the ellipsoid since the start time\n",
    "\n",
    "```stars_x``` is a table with all the relevant information for each of the stars"
   ]
  },
  {
   "cell_type": "code",
   "execution_count": 8,
   "metadata": {},
   "outputs": [
    {
     "name": "stdout",
     "output_type": "stream",
     "text": [
      "1810 stars have crossed the ellipsoid during Gaia DR3 data collection time (excluding error)\n"
     ]
    }
   ],
   "source": [
    "c1_x2, stars_x2 = ellipsoid.crossEllipsoid(c0, t0, c1, stars, tol, start=Time('2014-07-25T10:30', format='isot'), end=Time('2017-05-28T08:44', format='isot'))\n",
    "print(f'{len(stars_x2)} stars have crossed the ellipsoid during Gaia DR3 data collection time (excluding error)')"
   ]
  },
  {
   "cell_type": "code",
   "execution_count": 7,
   "metadata": {},
   "outputs": [
    {
     "name": "stdout",
     "output_type": "stream",
     "text": [
      "8 stars have crossed the ellipsoid during Gaia DR3 data collection time\n"
     ]
    }
   ],
   "source": [
    "c1_x, stars_x = ellipsoid.crossErrorEllipsoid(c0, t0, c1, stars, tol)\n",
    "print(f'{len(stars_x)} stars have crossed the ellipsoid during Gaia DR3 data collection time')"
   ]
  },
  {
   "cell_type": "markdown",
   "metadata": {},
   "source": [
    "### Login to Gaia archive\n",
    "\n",
    "Creating and logging into a Gaia archive account allows for larger data downloads\n",
    "\n",
    "You can register here:\n",
    "https://www.cosmos.esa.int/web/gaia-users/register"
   ]
  },
  {
   "cell_type": "code",
   "execution_count": null,
   "metadata": {},
   "outputs": [],
   "source": [
    "Gaia.login()"
   ]
  },
  {
   "cell_type": "markdown",
   "metadata": {},
   "source": [
    "### Split the desired stars into chunks of =< 5000 (if needed)\n",
    "\n",
    "Datalink, the protocol Gaia uses for ancillary data such as epoch photometry and spectra, can only retrieve data for up to 5000 sources at a time. This threshold is overcome by splitting the input into chunks of size =< 5000 sources."
   ]
  },
  {
   "cell_type": "code",
   "execution_count": 12,
   "metadata": {},
   "outputs": [],
   "source": [
    "def chunks(lst, n):\n",
    "    \"\"\n",
    "    \"Split an input list into multiple chunks of size =< n\"\n",
    "    \"\"\n",
    "    for i in range(0, len(lst), n):\n",
    "        yield lst[i:i + n]"
   ]
  },
  {
   "cell_type": "code",
   "execution_count": 13,
   "metadata": {},
   "outputs": [
    {
     "name": "stdout",
     "output_type": "stream",
     "text": [
      "* Input list contains 8 source_IDs\n",
      "* This list is split into 1 chunks of <= 5000 elements each\n"
     ]
    }
   ],
   "source": [
    "dl_threshold = 5000               # DataLink server threshold. It is not possible to download products for more than 5000 sources in one single call.\n",
    "ids          = stars_x['id']\n",
    "ids_chunks   = list(chunks(ids, dl_threshold))\n",
    "datalink_all = []\n",
    "\n",
    "\n",
    "print(f'* Input list contains {len(ids)} source_IDs')\n",
    "print(f'* This list is split into {len(ids_chunks)} chunks of <= {dl_threshold} elements each')"
   ]
  },
  {
   "cell_type": "markdown",
   "metadata": {},
   "source": [
    "### Get lightcurves\n",
    "\n",
    "When downloading, light curves will all be in one table (merged).\n",
    "\n",
    "Can also save and read light curve tables once downloaded."
   ]
  },
  {
   "cell_type": "code",
   "execution_count": 14,
   "metadata": {
    "scrolled": true
   },
   "outputs": [
    {
     "name": "stdout",
     "output_type": "stream",
     "text": [
      "Downloading Chunk #1; N_files = 8\n"
     ]
    }
   ],
   "source": [
    "retrieval_type = 'EPOCH_PHOTOMETRY'        # Options are: 'EPOCH_PHOTOMETRY', 'MCMC_GSPPHOT', 'MCMC_MSC', 'XP_SAMPLED', 'XP_CONTINUOUS', 'RVS' \n",
    "data_structure = 'COMBINED'   # Options are: 'INDIVIDUAL', 'COMBINED', 'RAW' - but as explained above, we strongly recommend to use COMBINED for massive downloads.\n",
    "data_release   = 'Gaia DR3'   # Options are: 'Gaia DR3' (default), 'Gaia DR2'\n",
    "dl_key         = f'{retrieval_type}_{data_structure}.xml'\n",
    "\n",
    "\n",
    "ii = 0\n",
    "for chunk in ids_chunks:\n",
    "    ii = ii + 1\n",
    "    print(f'Downloading Chunk #{ii}; N_files = {len(chunk)}')\n",
    "    datalink  = Gaia.load_data(ids=chunk, data_release = data_release, retrieval_type=retrieval_type, format = 'votable', data_structure = data_structure)\n",
    "    datalink_all.append(datalink)"
   ]
  },
  {
   "cell_type": "code",
   "execution_count": 15,
   "metadata": {},
   "outputs": [],
   "source": [
    "temp = [inp[dl_key][0].to_table() for inp in datalink_all]\n",
    "merged = vstack(temp)"
   ]
  },
  {
   "cell_type": "markdown",
   "metadata": {},
   "source": [
    "Save downloaded table"
   ]
  },
  {
   "cell_type": "code",
   "execution_count": 16,
   "metadata": {},
   "outputs": [],
   "source": [
    "merged_sf = '../GCNS_var_lc.xml'\n",
    "\n",
    "if os.path.exists(merged_sf):\n",
    "    os.remove(merged_sf)    \n",
    "QTable(merged).write(merged_sf, format='votable')"
   ]
  },
  {
   "cell_type": "markdown",
   "metadata": {},
   "source": [
    "Read saved table"
   ]
  },
  {
   "cell_type": "code",
   "execution_count": 17,
   "metadata": {},
   "outputs": [
    {
     "name": "stderr",
     "output_type": "stream",
     "text": [
      "WARNING: UnitsWarning: Unit 'electron' not supported by the VOUnit standard.  [astropy.units.format.vounit]\n"
     ]
    }
   ],
   "source": [
    "lc_merged = QTable.read(merged_sf, format='votable')"
   ]
  },
  {
   "cell_type": "markdown",
   "metadata": {},
   "source": [
    "### Make dictionaries for each band\n",
    "\n",
    "Each source is observed in three bands by Gaia (G, RP, BP), so here we create a dictionary for each band, with the keys equal to the source IDs and the values equal to the light curve table for that source and band"
   ]
  },
  {
   "cell_type": "code",
   "execution_count": 18,
   "metadata": {},
   "outputs": [],
   "source": [
    "glcDict = {}\n",
    "bplcDict = {}\n",
    "rplcDict = {}"
   ]
  },
  {
   "cell_type": "code",
   "execution_count": 19,
   "metadata": {},
   "outputs": [],
   "source": [
    "for sid in ids:\n",
    "    glc, bplc, rplc = ellipsoid.getLC(lc_merged, sid, 'G'), ellipsoid.getLC(lc_merged, sid, 'BP'), ellipsoid.getLC(lc_merged, sid, 'RP')\n",
    "    glcDict[str(sid)], bplcDict[str(sid)], rplcDict[str(sid)] = glc, bplc, rplc"
   ]
  },
  {
   "cell_type": "markdown",
   "metadata": {},
   "source": [
    "### Pick random light curve(s) and plot\n",
    "\n",
    "Here, one or many random source IDs are selected, and their light curves are plotted, as well as a vertical line indicating the ellipsoid crossing time."
   ]
  },
  {
   "cell_type": "code",
   "execution_count": 20,
   "metadata": {},
   "outputs": [],
   "source": [
    "lcChoice = random.choice(list(glcDict.keys()))"
   ]
  },
  {
   "cell_type": "code",
   "execution_count": 22,
   "metadata": {},
   "outputs": [],
   "source": [
    "lcChoices = random.sample(list(glcDict.keys()), k=8)"
   ]
  },
  {
   "cell_type": "code",
   "execution_count": 23,
   "metadata": {},
   "outputs": [],
   "source": [
    "idMask = np.in1d(stars['id'], [int(i) for i in lcChoices])"
   ]
  },
  {
   "cell_type": "code",
   "execution_count": 24,
   "metadata": {},
   "outputs": [
    {
     "data": {
      "text/html": [
       "<div><i>Table length=8</i>\n",
       "<table id=\"table140479825504848\" class=\"table-striped table-bordered table-condensed\">\n",
       "<thead><tr><th>id</th><th>class</th></tr></thead>\n",
       "<thead><tr><th>int64</th><th>bytes30</th></tr></thead>\n",
       "<tr><td>4158840442172717440</td><td>SOLAR_LIKE</td></tr>\n",
       "<tr><td>1302439147363430272</td><td>SOLAR_LIKE</td></tr>\n",
       "<tr><td>6011392186336443392</td><td>YSO</td></tr>\n",
       "<tr><td>4180052117402761216</td><td>SOLAR_LIKE</td></tr>\n",
       "<tr><td>5829546092853939712</td><td>SOLAR_LIKE</td></tr>\n",
       "<tr><td>1387247743387653632</td><td>SOLAR_LIKE</td></tr>\n",
       "<tr><td>2038598839702672640</td><td>SOLAR_LIKE</td></tr>\n",
       "<tr><td>4607839243856979968</td><td>SOLAR_LIKE</td></tr>\n",
       "</table></div>"
      ],
      "text/plain": [
       "<Table length=8>\n",
       "         id           class   \n",
       "       int64         bytes30  \n",
       "------------------- ----------\n",
       "4158840442172717440 SOLAR_LIKE\n",
       "1302439147363430272 SOLAR_LIKE\n",
       "6011392186336443392        YSO\n",
       "4180052117402761216 SOLAR_LIKE\n",
       "5829546092853939712 SOLAR_LIKE\n",
       "1387247743387653632 SOLAR_LIKE\n",
       "2038598839702672640 SOLAR_LIKE\n",
       "4607839243856979968 SOLAR_LIKE"
      ]
     },
     "execution_count": 24,
     "metadata": {},
     "output_type": "execute_result"
    }
   ],
   "source": [
    "stars[idMask]['id', 'class']"
   ]
  },
  {
   "cell_type": "markdown",
   "metadata": {},
   "source": [
    "The Gaia archive is again queried to get the Gaia variable classification"
   ]
  },
  {
   "cell_type": "code",
   "execution_count": 25,
   "metadata": {},
   "outputs": [
    {
     "name": "stdout",
     "output_type": "stream",
     "text": [
      "INFO: Query finished. [astroquery.utils.tap.core]\n",
      "Source 6011392186336443392 has variable classification YSO\n"
     ]
    }
   ],
   "source": [
    "lcClass = ellipsoid.varClass(lcChoice)\n",
    "print(f'Source {lcChoice} has variable classification {lcClass[0]}')"
   ]
  },
  {
   "cell_type": "code",
   "execution_count": 26,
   "metadata": {
    "scrolled": false
   },
   "outputs": [
    {
     "name": "stdout",
     "output_type": "stream",
     "text": [
      "INFO: Query finished. [astroquery.utils.tap.core]\n"
     ]
    },
    {
     "data": {
      "text/html": [
       "<div><i>Table length=8</i>\n",
       "<table id=\"table140479817050192\" class=\"table-striped table-bordered table-condensed\">\n",
       "<thead><tr><th>best_class_name</th><th>source_id</th></tr></thead>\n",
       "<thead><tr><th>bytes30</th><th>int64</th></tr></thead>\n",
       "<tr><td>SOLAR_LIKE</td><td>1302439147363430272</td></tr>\n",
       "<tr><td>SOLAR_LIKE</td><td>1387247743387653632</td></tr>\n",
       "<tr><td>SOLAR_LIKE</td><td>2038598839702672640</td></tr>\n",
       "<tr><td>SOLAR_LIKE</td><td>4158840442172717440</td></tr>\n",
       "<tr><td>SOLAR_LIKE</td><td>4180052117402761216</td></tr>\n",
       "<tr><td>SOLAR_LIKE</td><td>4607839243856979968</td></tr>\n",
       "<tr><td>SOLAR_LIKE</td><td>5829546092853939712</td></tr>\n",
       "<tr><td>YSO</td><td>6011392186336443392</td></tr>\n",
       "</table></div>"
      ],
      "text/plain": [
       "<Table length=8>\n",
       "best_class_name      source_id     \n",
       "    bytes30            int64       \n",
       "--------------- -------------------\n",
       "     SOLAR_LIKE 1302439147363430272\n",
       "     SOLAR_LIKE 1387247743387653632\n",
       "     SOLAR_LIKE 2038598839702672640\n",
       "     SOLAR_LIKE 4158840442172717440\n",
       "     SOLAR_LIKE 4180052117402761216\n",
       "     SOLAR_LIKE 4607839243856979968\n",
       "     SOLAR_LIKE 5829546092853939712\n",
       "            YSO 6011392186336443392"
      ]
     },
     "execution_count": 26,
     "metadata": {},
     "output_type": "execute_result"
    }
   ],
   "source": [
    "lcClasses = ellipsoid.varClasses(tuple(lcChoices))\n",
    "lcClasses"
   ]
  },
  {
   "cell_type": "markdown",
   "metadata": {},
   "source": [
    "Pick a desired source ID"
   ]
  },
  {
   "cell_type": "code",
   "execution_count": 29,
   "metadata": {},
   "outputs": [],
   "source": [
    "lcID = 6011392186336443392\n",
    "id_mask = stars_x['id'] == lcID"
   ]
  },
  {
   "cell_type": "markdown",
   "metadata": {},
   "source": [
    "Get the ellipsoid crossing time for the selected star, as well as the light curve information"
   ]
  },
  {
   "cell_type": "code",
   "execution_count": 36,
   "metadata": {},
   "outputs": [],
   "source": [
    "xtime = ellipsoid.xTime(c1_x[id_mask], c0, t0)[0]"
   ]
  },
  {
   "cell_type": "code",
   "execution_count": 37,
   "metadata": {},
   "outputs": [],
   "source": [
    "lcDict = glcDict # choose g, bp, or rp light curve\n",
    "\n",
    "lcTimes = Time(lcDict[str(lcID)]['time'].value + 2455197.5, format='jd')\n",
    "lcFlux = lcDict[str(lcID)]['flux']\n",
    "lcFerr = lcDict[str(lcID)]['flux_error']\n",
    "lcMag = lcDict[str(lcID)]['mag']\n",
    "# time offset described at https://gea.esac.esa.int/archive/documentation/GDR3/Gaia_archive/chap_datamodel/sec_dm_photometry/ssec_dm_epoch_photometry.html"
   ]
  },
  {
   "cell_type": "markdown",
   "metadata": {},
   "source": [
    "#### Plot with crossing time"
   ]
  },
  {
   "cell_type": "code",
   "execution_count": 38,
   "metadata": {},
   "outputs": [
    {
     "data": {
      "text/plain": [
       "<matplotlib.collections.PathCollection at 0x7fc40153ea90>"
      ]
     },
     "execution_count": 38,
     "metadata": {},
     "output_type": "execute_result"
    },
    {
     "data": {
      "image/png": "[encoded data removed]",
      "text/plain": [
       "<Figure size 1500x450 with 1 Axes>"
      ]
     },
     "metadata": {
      "needs_background": "light"
     },
     "output_type": "display_data"
    }
   ],
   "source": [
    "plt.figure(figsize=[10,3], dpi=150)\n",
    "\n",
    "plt.vlines(xtime, ymin=min(lcFlux.value), ymax=max(lcFlux.value))\n",
    "plt.scatter(lcTimes.value, lcFlux)"
   ]
  },
  {
   "cell_type": "markdown",
   "metadata": {},
   "source": [
    "All the above plotting can be done with the ```plotLC``` function:"
   ]
  },
  {
   "cell_type": "code",
   "execution_count": 43,
   "metadata": {},
   "outputs": [
    {
     "data": {
      "image/png": "[encoded data removed]",
      "text/plain": [
       "<Figure size 1200x900 with 3 Axes>"
      ]
     },
     "metadata": {
      "needs_background": "light"
     },
     "output_type": "display_data"
    }
   ],
   "source": [
    "ellipsoid.plotLC(str(lcID), c1_x[id_mask], stars_x[id_mask], glcDict, bplcDict, rplcDict, y='flux', time= ellipsoid.xTime(c1_x[id_mask], c0, t0)[0])"
   ]
  },
  {
   "cell_type": "markdown",
   "metadata": {},
   "source": [
    "### Plot all light curves and save to folder"
   ]
  },
  {
   "cell_type": "code",
   "execution_count": 47,
   "metadata": {},
   "outputs": [],
   "source": [
    "for lcID in lcChoices:\n",
    "    id_mask = stars_x['id'] == int(lcID)\n",
    "\n",
    "    ellipsoid.plotLC(str(lcID), c1_x[id_mask], stars_x[id_mask], glcDict, bplcDict, rplcDict, y='flux', median=False, time=ellipsoid.xTime(c1_x[id_mask], c0, t0)[0])\n",
    "\n",
    "    plt.savefig(f'light_curves/{lcID}', transparent=False, facecolor='white')\n",
    "    plt.close()"
   ]
  }
 ],
 "metadata": {
  "kernelspec": {
   "display_name": "Python 3 (ipykernel)",
   "language": "python",
   "name": "python3"
  },
  "language_info": {
   "codemirror_mode": {
    "name": "ipython",
    "version": 3
   },
   "file_extension": ".py",
   "mimetype": "text/x-python",
   "name": "python",
   "nbconvert_exporter": "python",
   "pygments_lexer": "ipython3",
   "version": "3.7.6"
  },
  "vscode": {
   "interpreter": {
    "hash": "fb6b80a54a3eccef7ea4de141fea25c048297dd5c22e4be56c6305585d3ad9de"
   }
  }
 },
 "nbformat": 4,
 "nbformat_minor": 2
}
