{
 "cells": [
  {
   "cell_type": "markdown",
   "metadata": {},
   "source": [
    "# Ellipsoid Lightcurves\n",
    "\n",
    "This notebook is used for viewing the light curves of stars that have crossed the SETI Ellipsoid during Gaia's observation run."
   ]
  },
  {
   "cell_type": "code",
   "execution_count": 1,
   "metadata": {},
   "outputs": [],
   "source": [
    "%matplotlib inline\n",
    "\n",
    "import matplotlib.pyplot as plt\n",
    "import numpy as np\n",
    "\n",
    "from astropy.coordinates import SkyCoord\n",
    "import astropy.coordinates as coord\n",
    "from astropy import constants as const\n",
    "from astropy import units as u\n",
    "from astropy.time import Time\n",
    "from astropy.table import Table, QTable, vstack\n",
    "import os\n",
    "\n",
    "from astroquery.gaia import Gaia\n",
    "\n",
    "import ellipsoid\n",
    "\n",
    "from astropy.timeseries import LombScargle, TimeSeries\n",
    "import random"
   ]
  },
  {
   "cell_type": "code",
   "execution_count": 2,
   "metadata": {},
   "outputs": [],
   "source": [
    "sta = Time('2014-07-25T10:30')"
   ]
  },
  {
   "cell_type": "code",
   "execution_count": 3,
   "metadata": {},
   "outputs": [
    {
     "data": {
      "text/plain": [
       "<Time object: scale='utc' format='isot' value=2014-07-25T10:30:00.000>"
      ]
     },
     "execution_count": 3,
     "metadata": {},
     "output_type": "execute_result"
    }
   ],
   "source": [
    "sta"
   ]
  },
  {
   "cell_type": "markdown",
   "metadata": {},
   "source": [
    "### Read in the desired file and set global parameters\n",
    "If using the ```ellipsoid.py``` script to download Gaia data, the file names are:\n",
    "\n",
    "```GCNS_var``` -- variable stars in GCNS\n",
    "\n",
    "```Gaia_var``` -- variable stars in Gaia DR3\n",
    "\n",
    "```GCNS``` -- stars in GCNS\n",
    "\n",
    "```Gaia``` -- stars in Gaia DR3\n",
    "\n",
    "The tolerance is in lightyears, and the default start time is the time of the first Gaia alert"
   ]
  },
  {
   "cell_type": "code",
   "execution_count": 2,
   "metadata": {},
   "outputs": [],
   "source": [
    "file_name = 'GCNS_var'\n",
    "c1, stars = ellipsoid.readFile(file_name)\n",
    "tol = 0.1\n",
    "start = 2014.569312182902"
   ]
  },
  {
   "cell_type": "markdown",
   "metadata": {},
   "source": [
    "The default event (i.e. the second focal point of the SETI Ellipsoid) is SN 1987A by default, and its parameters are set below"
   ]
  },
  {
   "cell_type": "code",
   "execution_count": 3,
   "metadata": {},
   "outputs": [],
   "source": [
    "#Properties of SN1987A\n",
    "t0 = Time({'year': 1987, 'month': 2, 'day': 23}, format='ymdhms')\n",
    "\n",
    "c0_radec = SkyCoord.from_name('SN 1987A')\n",
    "\n",
    "# Panagia (1999) https://ui.adsabs.harvard.edu/abs/1999IAUS..190..549P/abstract\n",
    "d0 = 51.4 * u.kpc\n",
    "d0_err = 1.2 * u.kpc\n",
    "\n",
    "c0 = SkyCoord(ra=c0_radec.ra, dec=c0_radec.dec, distance=d0)"
   ]
  },
  {
   "cell_type": "markdown",
   "metadata": {},
   "source": [
    "### Get table of crossing stars\n",
    "\n",
    "```c1_x``` contains astropy SkyCoord objects of each star that has crossed (within some tolerance) the ellipsoid since the start time\n",
    "\n",
    "```stars_x``` is a table with all the relevant information for each of the stars"
   ]
  },
  {
   "cell_type": "code",
   "execution_count": 4,
   "metadata": {},
   "outputs": [
    {
     "name": "stdout",
     "output_type": "stream",
     "text": [
      "500 stars have crossed the ellipsoid since 2014.569312182902\n"
     ]
    }
   ],
   "source": [
    "c1_x, stars_x = ellipsoid.crossEllipsoid(c0, t0, c1, stars, tol, start)\n",
    "print(f'{len(stars_x)} stars have crossed the ellipsoid since {start}')"
   ]
  },
  {
   "cell_type": "markdown",
   "metadata": {},
   "source": [
    "### Login to Gaia archive\n",
    "\n",
    "Creating and logging into a Gaia archive account allows for larger data downloads\n",
    "\n",
    "You can register here:\n",
    "https://www.cosmos.esa.int/web/gaia-users/register"
   ]
  },
  {
   "cell_type": "code",
   "execution_count": 5,
   "metadata": {
    "scrolled": true
   },
   "outputs": [
    {
     "name": "stdout",
     "output_type": "stream",
     "text": [
      "INFO: Login to gaia TAP server [astroquery.gaia.core]\n",
      "User: anilipou\n",
      "Password: ········\n",
      "OK\n",
      "INFO: Login to gaia data server [astroquery.gaia.core]\n",
      "OK\n"
     ]
    }
   ],
   "source": [
    "Gaia.login()"
   ]
  },
  {
   "cell_type": "markdown",
   "metadata": {},
   "source": [
    "### Split the desired stars into chunks of =< 5000 (if needed)\n",
    "\n",
    "Datalink, the protocol Gaia uses for ancillary data such as epoch photometry and spectra, can only retrieve data for up to 5000 sources at a time. This threshold is overcome by splitting the input into chunks of size =< 5000 sources."
   ]
  },
  {
   "cell_type": "code",
   "execution_count": 6,
   "metadata": {},
   "outputs": [],
   "source": [
    "def chunks(lst, n):\n",
    "    \"\"\n",
    "    \"Split an input list into multiple chunks of size =< n\"\n",
    "    \"\"\n",
    "    for i in range(0, len(lst), n):\n",
    "        yield lst[i:i + n]"
   ]
  },
  {
   "cell_type": "code",
   "execution_count": 7,
   "metadata": {},
   "outputs": [
    {
     "name": "stdout",
     "output_type": "stream",
     "text": [
      "* Input list contains 500 source_IDs\n",
      "* This list is split into 1 chunks of <= 5000 elements each\n"
     ]
    }
   ],
   "source": [
    "dl_threshold = 5000               # DataLink server threshold. It is not possible to download products for more than 5000 sources in one single call.\n",
    "ids          = stars_x['id']\n",
    "ids_chunks   = list(chunks(ids, dl_threshold))\n",
    "datalink_all = []\n",
    "\n",
    "\n",
    "print(f'* Input list contains {len(ids)} source_IDs')\n",
    "print(f'* This list is split into {len(ids_chunks)} chunks of <= {dl_threshold} elements each')"
   ]
  },
  {
   "cell_type": "markdown",
   "metadata": {},
   "source": [
    "### Get lightcurves\n",
    "\n",
    "When downloading, light curves will all be in one table (merged).\n",
    "\n",
    "Can also save and read light curve tables once downloaded."
   ]
  },
  {
   "cell_type": "code",
   "execution_count": 8,
   "metadata": {
    "scrolled": true
   },
   "outputs": [
    {
     "name": "stdout",
     "output_type": "stream",
     "text": [
      "Downloading Chunk #1; N_files = 500\n"
     ]
    }
   ],
   "source": [
    "retrieval_type = 'EPOCH_PHOTOMETRY'        # Options are: 'EPOCH_PHOTOMETRY', 'MCMC_GSPPHOT', 'MCMC_MSC', 'XP_SAMPLED', 'XP_CONTINUOUS', 'RVS' \n",
    "data_structure = 'COMBINED'   # Options are: 'INDIVIDUAL', 'COMBINED', 'RAW' - but as explained above, we strongly recommend to use COMBINED for massive downloads.\n",
    "data_release   = 'Gaia DR3'   # Options are: 'Gaia DR3' (default), 'Gaia DR2'\n",
    "dl_key         = f'{retrieval_type}_{data_structure}.xml'\n",
    "\n",
    "\n",
    "ii = 0\n",
    "for chunk in ids_chunks:\n",
    "    ii = ii + 1\n",
    "    print(f'Downloading Chunk #{ii}; N_files = {len(chunk)}')\n",
    "    datalink  = Gaia.load_data(ids=chunk, data_release = data_release, retrieval_type=retrieval_type, format = 'votable', data_structure = data_structure)\n",
    "    datalink_all.append(datalink)"
   ]
  },
  {
   "cell_type": "code",
   "execution_count": 9,
   "metadata": {},
   "outputs": [],
   "source": [
    "temp = [inp[dl_key][0].to_table() for inp in datalink_all]\n",
    "merged = vstack(temp)"
   ]
  },
  {
   "cell_type": "markdown",
   "metadata": {},
   "source": [
    "Save downloaded table"
   ]
  },
  {
   "cell_type": "code",
   "execution_count": 10,
   "metadata": {},
   "outputs": [],
   "source": [
    "merged_sf = '../GCNS_var_lc.xml'\n",
    "\n",
    "if os.path.exists(merged_sf):\n",
    "    os.remove(merged_sf)    \n",
    "QTable(merged).write(merged_sf, format='votable')"
   ]
  },
  {
   "cell_type": "markdown",
   "metadata": {},
   "source": [
    "Read saved table"
   ]
  },
  {
   "cell_type": "code",
   "execution_count": 11,
   "metadata": {},
   "outputs": [
    {
     "name": "stderr",
     "output_type": "stream",
     "text": [
      "WARNING: UnitsWarning: Unit 'electron' not supported by the VOUnit standard.  [astropy.units.format.vounit]\n"
     ]
    }
   ],
   "source": [
    "lc_merged = QTable.read(merged_sf, format='votable')"
   ]
  },
  {
   "cell_type": "markdown",
   "metadata": {},
   "source": [
    "### Make dictionaries for each band\n",
    "\n",
    "Each source is observed in three bands by Gaia (G, RP, BP), so here we create a dictionary for each band, with the keys equal to the source IDs and the values equal to the light curve table for that source and band"
   ]
  },
  {
   "cell_type": "code",
   "execution_count": 12,
   "metadata": {},
   "outputs": [],
   "source": [
    "glcDict = {}\n",
    "bplcDict = {}\n",
    "rplcDict = {}"
   ]
  },
  {
   "cell_type": "code",
   "execution_count": 13,
   "metadata": {},
   "outputs": [],
   "source": [
    "for sid in ids:\n",
    "    glc, bplc, rplc = ellipsoid.getLC(lc_merged, sid, 'G'), ellipsoid.getLC(lc_merged, sid, 'BP'), ellipsoid.getLC(lc_merged, sid, 'RP')\n",
    "    glcDict[str(sid)], bplcDict[str(sid)], rplcDict[str(sid)] = glc, bplc, rplc"
   ]
  },
  {
   "cell_type": "markdown",
   "metadata": {},
   "source": [
    "### Pick random light curve(s) and plot\n",
    "\n",
    "Here, one or many random source IDs are selected, and their light curves are plotted, as well as a vertical line indicating the ellipsoid crossing time."
   ]
  },
  {
   "cell_type": "code",
   "execution_count": 14,
   "metadata": {},
   "outputs": [],
   "source": [
    "lcChoice = random.choice(list(glcDict.keys()))"
   ]
  },
  {
   "cell_type": "code",
   "execution_count": 15,
   "metadata": {},
   "outputs": [],
   "source": [
    "lcChoices = random.choices(list(glcDict.keys()), k=25)"
   ]
  },
  {
   "cell_type": "markdown",
   "metadata": {},
   "source": [
    "The Gaia archive is again queried to get the Gaia variable classification"
   ]
  },
  {
   "cell_type": "code",
   "execution_count": 16,
   "metadata": {},
   "outputs": [
    {
     "name": "stdout",
     "output_type": "stream",
     "text": [
      "INFO: Query finished. [astroquery.utils.tap.core]\n",
      "Source 6537148826779472512 has variable classification SOLAR_LIKE\n"
     ]
    }
   ],
   "source": [
    "lcClass = ellipsoid.varClass(lcChoice)\n",
    "print(f'Source {lcChoice} has variable classification {lcClass[0]}')"
   ]
  },
  {
   "cell_type": "code",
   "execution_count": 17,
   "metadata": {
    "scrolled": false
   },
   "outputs": [
    {
     "name": "stdout",
     "output_type": "stream",
     "text": [
      "INFO: Query finished. [astroquery.utils.tap.core]\n"
     ]
    },
    {
     "data": {
      "text/html": [
       "<div><i>Table length=24</i>\n",
       "<table id=\"table140693715422544\" class=\"table-striped table-bordered table-condensed\">\n",
       "<thead><tr><th>best_class_name</th><th>source_id</th></tr></thead>\n",
       "<thead><tr><th>bytes30</th><th>int64</th></tr></thead>\n",
       "<tr><td>SOLAR_LIKE</td><td>2899142301062372608</td></tr>\n",
       "<tr><td>SOLAR_LIKE</td><td>4806763746546430208</td></tr>\n",
       "<tr><td>SOLAR_LIKE</td><td>4858215766828595968</td></tr>\n",
       "<tr><td>SOLAR_LIKE</td><td>4986052376017997184</td></tr>\n",
       "<tr><td>SOLAR_LIKE</td><td>5050955383470408320</td></tr>\n",
       "<tr><td>SOLAR_LIKE</td><td>5061276838421094528</td></tr>\n",
       "<tr><td>SOLAR_LIKE</td><td>5259481234035622272</td></tr>\n",
       "<tr><td>SOLAR_LIKE</td><td>5327184006092127616</td></tr>\n",
       "<tr><td>SOLAR_LIKE</td><td>5344632667210241664</td></tr>\n",
       "<tr><td>SOLAR_LIKE</td><td>5351191498919598720</td></tr>\n",
       "<tr><td>SOLAR_LIKE</td><td>5444096348783212928</td></tr>\n",
       "<tr><td>SOLAR_LIKE</td><td>5518619391492232576</td></tr>\n",
       "<tr><td>SOLAR_LIKE</td><td>5520146475710262272</td></tr>\n",
       "<tr><td>SOLAR_LIKE</td><td>5535608903426896000</td></tr>\n",
       "<tr><td>SOLAR_LIKE</td><td>5538456402325902464</td></tr>\n",
       "<tr><td>SOLAR_LIKE</td><td>5570405766384138880</td></tr>\n",
       "<tr><td>SOLAR_LIKE</td><td>5571454395534987008</td></tr>\n",
       "<tr><td>SOLAR_LIKE</td><td>5648842486369498496</td></tr>\n",
       "<tr><td>SOLAR_LIKE</td><td>5661231955187115136</td></tr>\n",
       "<tr><td>SOLAR_LIKE</td><td>5788908039976732160</td></tr>\n",
       "<tr><td>SOLAR_LIKE</td><td>5827955129560770304</td></tr>\n",
       "<tr><td>SOLAR_LIKE</td><td>6363191175140249984</td></tr>\n",
       "<tr><td>SOLAR_LIKE</td><td>6363913073243996032</td></tr>\n",
       "<tr><td>SOLAR_LIKE</td><td>6366031041876369792</td></tr>\n",
       "</table></div>"
      ],
      "text/plain": [
       "<Table length=24>\n",
       "best_class_name      source_id     \n",
       "    bytes30            int64       \n",
       "--------------- -------------------\n",
       "     SOLAR_LIKE 2899142301062372608\n",
       "     SOLAR_LIKE 4806763746546430208\n",
       "     SOLAR_LIKE 4858215766828595968\n",
       "     SOLAR_LIKE 4986052376017997184\n",
       "     SOLAR_LIKE 5050955383470408320\n",
       "     SOLAR_LIKE 5061276838421094528\n",
       "     SOLAR_LIKE 5259481234035622272\n",
       "     SOLAR_LIKE 5327184006092127616\n",
       "     SOLAR_LIKE 5344632667210241664\n",
       "     SOLAR_LIKE 5351191498919598720\n",
       "     SOLAR_LIKE 5444096348783212928\n",
       "     SOLAR_LIKE 5518619391492232576\n",
       "     SOLAR_LIKE 5520146475710262272\n",
       "     SOLAR_LIKE 5535608903426896000\n",
       "     SOLAR_LIKE 5538456402325902464\n",
       "     SOLAR_LIKE 5570405766384138880\n",
       "     SOLAR_LIKE 5571454395534987008\n",
       "     SOLAR_LIKE 5648842486369498496\n",
       "     SOLAR_LIKE 5661231955187115136\n",
       "     SOLAR_LIKE 5788908039976732160\n",
       "     SOLAR_LIKE 5827955129560770304\n",
       "     SOLAR_LIKE 6363191175140249984\n",
       "     SOLAR_LIKE 6363913073243996032\n",
       "     SOLAR_LIKE 6366031041876369792"
      ]
     },
     "execution_count": 17,
     "metadata": {},
     "output_type": "execute_result"
    }
   ],
   "source": [
    "lcClasses = ellipsoid.varClasses(tuple(lcChoices))\n",
    "lcClasses"
   ]
  },
  {
   "cell_type": "markdown",
   "metadata": {},
   "source": [
    "Pick a desired source ID"
   ]
  },
  {
   "cell_type": "code",
   "execution_count": 18,
   "metadata": {},
   "outputs": [],
   "source": [
    "lcID = 5256442871108474880\n",
    "id_mask = stars_x['id'] == lcID"
   ]
  },
  {
   "cell_type": "markdown",
   "metadata": {},
   "source": [
    "Get the ellipsoid crossing time for the selected star, as well as the light curve information"
   ]
  },
  {
   "cell_type": "code",
   "execution_count": 19,
   "metadata": {},
   "outputs": [],
   "source": [
    "xtime = ellipsoid.xTime(c1_x[id_mask])[0]"
   ]
  },
  {
   "cell_type": "code",
   "execution_count": 20,
   "metadata": {},
   "outputs": [],
   "source": [
    "lcDict = glcDict # choose g, bp, or rp light curve\n",
    "\n",
    "lcTimes = Time(lcDict[str(lcID)]['time'].value + 2455197.5, format='jd')\n",
    "lcFlux = lcDict[str(lcID)]['flux']\n",
    "lcFerr = lcDict[str(lcID)]['flux_error']\n",
    "lcMag = lcDict[str(lcID)]['mag']\n",
    "# time offset described at https://gea.esac.esa.int/archive/documentation/GDR3/Gaia_archive/chap_datamodel/sec_dm_photometry/ssec_dm_epoch_photometry.html"
   ]
  },
  {
   "cell_type": "markdown",
   "metadata": {},
   "source": [
    "#### Plot with crossing time"
   ]
  },
  {
   "cell_type": "code",
   "execution_count": 55,
   "metadata": {},
   "outputs": [
    {
     "data": {
      "image/png": "[encoded data removed]",
      "text/plain": [
       "<Figure size 1500x450 with 1 Axes>"
      ]
     },
     "metadata": {
      "needs_background": "light"
     },
     "output_type": "display_data"
    }
   ],
   "source": [
    "plt.figure(figsize=[10,3], dpi=150)\n",
    "\n",
    "plt.vlines(xtime, ymin=min(lcFlux.value), ymax=max(lcFlux.value))\n",
    "plt.scatter(lcTimes.value, lcFlux)"
   ]
  },
  {
   "cell_type": "markdown",
   "metadata": {},
   "source": [
    "All the above plotting can be done with the ```plotLC``` function:"
   ]
  },
  {
   "cell_type": "code",
   "execution_count": 57,
   "metadata": {},
   "outputs": [
    {
     "name": "stdout",
     "output_type": "stream",
     "text": [
      "[102.99447] 2457244.2777689714\n"
     ]
    },
    {
     "data": {
      "image/png": "[encoded data removed]",
      "text/plain": [
       "<Figure size 1200x900 with 3 Axes>"
      ]
     },
     "metadata": {
      "needs_background": "light"
     },
     "output_type": "display_data"
    }
   ],
   "source": [
    "ellipsoid.plotLC(str(lcID), c1_x[id_mask], stars_x[id_mask], glcDict, bplcDict, rplcDict, y='flux')\n",
    "\n",
    "plt.savefig('../light_curves', transparent=False, facecolor='white')"
   ]
  },
  {
   "cell_type": "code",
   "execution_count": null,
   "metadata": {},
   "outputs": [],
   "source": []
  }
 ],
 "metadata": {
  "kernelspec": {
   "display_name": "Python 3 (ipykernel)",
   "language": "python",
   "name": "python3"
  },
  "language_info": {
   "codemirror_mode": {
    "name": "ipython",
    "version": 3
   },
   "file_extension": ".py",
   "mimetype": "text/x-python",
   "name": "python",
   "nbconvert_exporter": "python",
   "pygments_lexer": "ipython3",
   "version": "3.7.6"
  },
  "vscode": {
   "interpreter": {
    "hash": "fb6b80a54a3eccef7ea4de141fea25c048297dd5c22e4be56c6305585d3ad9de"
   }
  }
 },
 "nbformat": 4,
 "nbformat_minor": 2
}
