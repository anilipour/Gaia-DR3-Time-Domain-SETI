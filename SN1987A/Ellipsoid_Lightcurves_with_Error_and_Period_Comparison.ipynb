{
 "cells": [
  {
   "cell_type": "markdown",
   "metadata": {},
   "source": [
    "# Ellipsoid Lightcurves with Error\n",
    "\n",
    "This notebook is used for viewing the light curves of stars that have crossed the SETI Ellipsoid during Gaia DR3 observation time period, including the error in crossing time"
   ]
  },
  {
   "cell_type": "markdown",
   "metadata": {},
   "source": []
  },
  {
   "cell_type": "code",
   "execution_count": 1,
   "metadata": {},
   "outputs": [],
   "source": [
    "%matplotlib inline\n",
    "\n",
    "import matplotlib.pyplot as plt\n",
    "import numpy as np\n",
    "\n",
    "from astropy.coordinates import SkyCoord\n",
    "import astropy.coordinates as coord\n",
    "from astropy import constants as const\n",
    "from astropy import units as u\n",
    "from astropy.time import Time\n",
    "from astropy.table import Table, QTable, vstack\n",
    "import os\n",
    "\n",
    "from astroquery.gaia import Gaia\n",
    "\n",
    "import ellipsoid\n",
    "\n",
    "from astropy.timeseries import LombScargle, TimeSeries\n",
    "import random"
   ]
  },
  {
   "cell_type": "markdown",
   "metadata": {},
   "source": [
    "### Read in the desired file and set global parameters\n",
    "If using the ```ellipsoid.py``` script to download Gaia data, the file names are:\n",
    "\n",
    "```GCNS_var``` -- variable stars in GCNS\n",
    "\n",
    "```Gaia_var``` -- variable stars in Gaia DR3\n",
    "\n",
    "```GCNS``` -- stars in GCNS\n",
    "\n",
    "```Gaia``` -- stars in Gaia DR3\n",
    "\n",
    "The tolerance is in lightyears, and the default start time is the time of the first Gaia alert"
   ]
  },
  {
   "cell_type": "code",
   "execution_count": 2,
   "metadata": {},
   "outputs": [],
   "source": [
    "file_name = 'Gaia_var_class'\n",
    "c1, stars = ellipsoid.readFile(file_name)\n",
    "tol = 0.1"
   ]
  },
  {
   "cell_type": "markdown",
   "metadata": {},
   "source": [
    "The default event (i.e. the second focal point of the SETI Ellipsoid) is SN 1987A by default, and its parameters are set below"
   ]
  },
  {
   "cell_type": "code",
   "execution_count": 3,
   "metadata": {},
   "outputs": [],
   "source": [
    "#Properties of SN1987A\n",
    "t0 = Time({'year': 1987, 'month': 2, 'day': 23}, format='ymdhms')\n",
    "\n",
    "c0_radec = SkyCoord.from_name('SN 1987A')\n",
    "\n",
    "# Panagia (1999) https://ui.adsabs.harvard.edu/abs/1999IAUS..190..549P/abstract\n",
    "d0 = 51.4 * u.kpc\n",
    "d0_err = 1.2 * u.kpc\n",
    "\n",
    "c0 = SkyCoord(ra=c0_radec.ra, dec=c0_radec.dec, distance=d0)"
   ]
  },
  {
   "cell_type": "code",
   "execution_count": 4,
   "metadata": {},
   "outputs": [
    {
     "data": {
      "text/plain": [
       "9322432"
      ]
     },
     "execution_count": 4,
     "metadata": {},
     "output_type": "execute_result"
    }
   ],
   "source": [
    "len(c1)"
   ]
  },
  {
   "cell_type": "markdown",
   "metadata": {},
   "source": [
    "### Get table of crossing stars\n",
    "\n",
    "```c1_x``` contains astropy SkyCoord objects of each star that has crossed (within some tolerance) the ellipsoid since the start time\n",
    "\n",
    "```stars_x``` is a table with all the relevant information for each of the stars"
   ]
  },
  {
   "cell_type": "code",
   "execution_count": 5,
   "metadata": {
    "scrolled": true
   },
   "outputs": [
    {
     "name": "stdout",
     "output_type": "stream",
     "text": [
      "217 stars have crossed the ellipsoid during Gaia DR3 data collection time\n"
     ]
    }
   ],
   "source": [
    "c1_x, stars_x = ellipsoid.crossErrorEllipsoid(c0, t0, c1, stars, tol)\n",
    "print(f'{len(stars_x)} stars have crossed the ellipsoid during Gaia DR3 data collection time')"
   ]
  },
  {
   "cell_type": "markdown",
   "metadata": {},
   "source": [
    "### Login to Gaia archive\n",
    "\n",
    "Creating and logging into a Gaia archive account allows for larger data downloads\n",
    "\n",
    "You can register here:\n",
    "https://www.cosmos.esa.int/web/gaia-users/register"
   ]
  },
  {
   "cell_type": "code",
   "execution_count": 7,
   "metadata": {
    "scrolled": true
   },
   "outputs": [
    {
     "name": "stdout",
     "output_type": "stream",
     "text": [
      "INFO: Login to gaia TAP server [astroquery.gaia.core]\n",
      "User: anilipou\n",
      "Password: ········\n",
      "OK\n",
      "INFO: Login to gaia data server [astroquery.gaia.core]\n",
      "OK\n"
     ]
    }
   ],
   "source": [
    "Gaia.login()"
   ]
  },
  {
   "cell_type": "markdown",
   "metadata": {},
   "source": [
    "### Split the desired stars into chunks of =< 5000 (if needed)\n",
    "\n",
    "Datalink, the protocol Gaia uses for ancillary data such as epoch photometry and spectra, can only retrieve data for up to 5000 sources at a time. This threshold is overcome by splitting the input into chunks of size =< 5000 sources."
   ]
  },
  {
   "cell_type": "code",
   "execution_count": 8,
   "metadata": {},
   "outputs": [],
   "source": [
    "def chunks(lst, n):\n",
    "    \"\"\n",
    "    \"Split an input list into multiple chunks of size =< n\"\n",
    "    \"\"\n",
    "    for i in range(0, len(lst), n):\n",
    "        yield lst[i:i + n]"
   ]
  },
  {
   "cell_type": "code",
   "execution_count": 9,
   "metadata": {},
   "outputs": [
    {
     "name": "stdout",
     "output_type": "stream",
     "text": [
      "* Input list contains 217 source_IDs\n",
      "* This list is split into 1 chunks of <= 5000 elements each\n"
     ]
    }
   ],
   "source": [
    "dl_threshold = 5000               # DataLink server threshold. It is not possible to download products for more than 5000 sources in one single call.\n",
    "ids          = stars_x['id']\n",
    "ids_chunks   = list(chunks(ids, dl_threshold))\n",
    "datalink_all = []\n",
    "\n",
    "\n",
    "print(f'* Input list contains {len(ids)} source_IDs')\n",
    "print(f'* This list is split into {len(ids_chunks)} chunks of <= {dl_threshold} elements each')"
   ]
  },
  {
   "cell_type": "markdown",
   "metadata": {},
   "source": [
    "### Get lightcurves\n",
    "\n",
    "When downloading, light curves will all be in one table (merged).\n",
    "\n",
    "Can also save and read light curve tables once downloaded."
   ]
  },
  {
   "cell_type": "code",
   "execution_count": 10,
   "metadata": {
    "scrolled": true
   },
   "outputs": [
    {
     "name": "stdout",
     "output_type": "stream",
     "text": [
      "Downloading Chunk #1; N_files = 217\n"
     ]
    }
   ],
   "source": [
    "retrieval_type = 'EPOCH_PHOTOMETRY'        # Options are: 'EPOCH_PHOTOMETRY', 'MCMC_GSPPHOT', 'MCMC_MSC', 'XP_SAMPLED', 'XP_CONTINUOUS', 'RVS' \n",
    "data_structure = 'COMBINED'   # Options are: 'INDIVIDUAL', 'COMBINED', 'RAW' - but as explained above, we strongly recommend to use COMBINED for massive downloads.\n",
    "data_release   = 'Gaia DR3'   # Options are: 'Gaia DR3' (default), 'Gaia DR2'\n",
    "dl_key         = f'{retrieval_type}_{data_structure}.xml'\n",
    "\n",
    "\n",
    "ii = 0\n",
    "for chunk in ids_chunks:\n",
    "    ii = ii + 1\n",
    "    print(f'Downloading Chunk #{ii}; N_files = {len(chunk)}')\n",
    "    datalink  = Gaia.load_data(ids=chunk, data_release = data_release, retrieval_type=retrieval_type, format = 'votable', data_structure = data_structure)\n",
    "    datalink_all.append(datalink)"
   ]
  },
  {
   "cell_type": "code",
   "execution_count": 11,
   "metadata": {},
   "outputs": [],
   "source": [
    "temp = [inp[dl_key][0].to_table() for inp in datalink_all]\n",
    "merged = vstack(temp)"
   ]
  },
  {
   "cell_type": "markdown",
   "metadata": {},
   "source": [
    "Save downloaded table"
   ]
  },
  {
   "cell_type": "code",
   "execution_count": 12,
   "metadata": {},
   "outputs": [],
   "source": [
    "merged_sf = '../GCNS_var_lc.xml'\n",
    "\n",
    "if os.path.exists(merged_sf):\n",
    "    os.remove(merged_sf)    \n",
    "QTable(merged).write(merged_sf, format='votable')"
   ]
  },
  {
   "cell_type": "markdown",
   "metadata": {},
   "source": [
    "Read saved table"
   ]
  },
  {
   "cell_type": "code",
   "execution_count": 13,
   "metadata": {},
   "outputs": [
    {
     "name": "stderr",
     "output_type": "stream",
     "text": [
      "WARNING: UnitsWarning: Unit 'electron' not supported by the VOUnit standard.  [astropy.units.format.vounit]\n"
     ]
    }
   ],
   "source": [
    "lc_merged = QTable.read(merged_sf, format='votable')"
   ]
  },
  {
   "cell_type": "markdown",
   "metadata": {},
   "source": [
    "### Make dictionaries for each band\n",
    "\n",
    "Each source is observed in three bands by Gaia (G, RP, BP), so here we create a dictionary for each band, with the keys equal to the source IDs and the values equal to the light curve table for that source and band"
   ]
  },
  {
   "cell_type": "code",
   "execution_count": 14,
   "metadata": {},
   "outputs": [],
   "source": [
    "glcDict = {}\n",
    "bplcDict = {}\n",
    "rplcDict = {}"
   ]
  },
  {
   "cell_type": "code",
   "execution_count": 15,
   "metadata": {},
   "outputs": [],
   "source": [
    "for sid in ids:\n",
    "    glc, bplc, rplc = ellipsoid.getLC(lc_merged, sid, 'G'), ellipsoid.getLC(lc_merged, sid, 'BP'), ellipsoid.getLC(lc_merged, sid, 'RP')\n",
    "    glcDict[str(sid)], bplcDict[str(sid)], rplcDict[str(sid)] = glc, bplc, rplc"
   ]
  },
  {
   "cell_type": "markdown",
   "metadata": {},
   "source": [
    "### Pick random light curve(s) and plot\n",
    "\n",
    "Here, one or many random source IDs are selected, and their light curves are plotted, as well as a vertical line indicating the ellipsoid crossing time."
   ]
  },
  {
   "cell_type": "code",
   "execution_count": 16,
   "metadata": {},
   "outputs": [],
   "source": [
    "lcChoice = random.choice(list(glcDict.keys()))"
   ]
  },
  {
   "cell_type": "code",
   "execution_count": 17,
   "metadata": {},
   "outputs": [],
   "source": [
    "lcChoices = random.sample(list(glcDict.keys()), k=217)"
   ]
  },
  {
   "cell_type": "code",
   "execution_count": 18,
   "metadata": {},
   "outputs": [],
   "source": [
    "idMask = np.in1d(stars['id'], [int(i) for i in lcChoices])"
   ]
  },
  {
   "cell_type": "code",
   "execution_count": 19,
   "metadata": {},
   "outputs": [
    {
     "data": {
      "text/html": [
       "<div><i>Table length=217</i>\n",
       "<table id=\"table140423740801680\" class=\"table-striped table-bordered table-condensed\">\n",
       "<thead><tr><th>id</th><th>class</th></tr></thead>\n",
       "<thead><tr><th>int64</th><th>bytes30</th></tr></thead>\n",
       "<tr><td>5277882523178810112</td><td>SOLAR_LIKE</td></tr>\n",
       "<tr><td>5278211586393119104</td><td>SOLAR_LIKE</td></tr>\n",
       "<tr><td>5085376179094311680</td><td>SOLAR_LIKE</td></tr>\n",
       "<tr><td>5882042344287383936</td><td>SOLAR_LIKE</td></tr>\n",
       "<tr><td>5793290899490805888</td><td>ECL</td></tr>\n",
       "<tr><td>5573439907376720896</td><td>SOLAR_LIKE</td></tr>\n",
       "<tr><td>5575165556516524416</td><td>SOLAR_LIKE</td></tr>\n",
       "<tr><td>5764995891157361792</td><td>SOLAR_LIKE</td></tr>\n",
       "<tr><td>5765214766988828672</td><td>SOLAR_LIKE</td></tr>\n",
       "<tr><td>5258643234376355840</td><td>SOLAR_LIKE</td></tr>\n",
       "<tr><td>4784908921423280000</td><td>SOLAR_LIKE</td></tr>\n",
       "<tr><td>4785503589711841280</td><td>ECL</td></tr>\n",
       "<tr><td>4786188929053180288</td><td>SOLAR_LIKE</td></tr>\n",
       "<tr><td>4786667697647516544</td><td>SOLAR_LIKE</td></tr>\n",
       "<tr><td>4788572429743836160</td><td>SOLAR_LIKE</td></tr>\n",
       "<tr><td>4789620470483928192</td><td>SOLAR_LIKE</td></tr>\n",
       "<tr><td>4789620981583333760</td><td>SOLAR_LIKE</td></tr>\n",
       "<tr><td>4794805213267582336</td><td>SOLAR_LIKE</td></tr>\n",
       "<tr><td>4796218944705075584</td><td>SOLAR_LIKE</td></tr>\n",
       "<tr><td>4797516647598118912</td><td>SOLAR_LIKE</td></tr>\n",
       "<tr><td>4797965248342545024</td><td>DSCT|GDOR|SXPHE</td></tr>\n",
       "<tr><td>...</td><td>...</td></tr>\n",
       "<tr><td>5792536565791371776</td><td>RS</td></tr>\n",
       "<tr><td>4813061852229522432</td><td>SOLAR_LIKE</td></tr>\n",
       "<tr><td>4814407242144736896</td><td>SOLAR_LIKE</td></tr>\n",
       "<tr><td>4817274321793438720</td><td>SOLAR_LIKE</td></tr>\n",
       "<tr><td>4819134214434956160</td><td>SOLAR_LIKE</td></tr>\n",
       "<tr><td>4823364344901462016</td><td>SOLAR_LIKE</td></tr>\n",
       "<tr><td>4825314363132677504</td><td>SOLAR_LIKE</td></tr>\n",
       "<tr><td>6355427660974875776</td><td>SOLAR_LIKE</td></tr>\n",
       "<tr><td>6355841524023560832</td><td>SOLAR_LIKE</td></tr>\n",
       "<tr><td>4611699556164330752</td><td>SOLAR_LIKE</td></tr>\n",
       "<tr><td>4611999757199224832</td><td>SOLAR_LIKE</td></tr>\n",
       "<tr><td>4970704812899201152</td><td>SOLAR_LIKE</td></tr>\n",
       "<tr><td>5515089718649940480</td><td>SOLAR_LIKE</td></tr>\n",
       "<tr><td>4977776631171372160</td><td>SOLAR_LIKE</td></tr>\n",
       "<tr><td>4978872431946648192</td><td>SOLAR_LIKE</td></tr>\n",
       "<tr><td>4986885500889922304</td><td>SOLAR_LIKE</td></tr>\n",
       "<tr><td>4987736729049009024</td><td>SOLAR_LIKE</td></tr>\n",
       "<tr><td>4987736729049009152</td><td>SOLAR_LIKE</td></tr>\n",
       "<tr><td>5301921936171751168</td><td>SOLAR_LIKE</td></tr>\n",
       "<tr><td>5242249481627141504</td><td>SOLAR_LIKE</td></tr>\n",
       "<tr><td>5327575019917853056</td><td>SOLAR_LIKE</td></tr>\n",
       "</table></div>"
      ],
      "text/plain": [
       "<Table length=217>\n",
       "         id              class     \n",
       "       int64            bytes30    \n",
       "------------------- ---------------\n",
       "5277882523178810112      SOLAR_LIKE\n",
       "5278211586393119104      SOLAR_LIKE\n",
       "5085376179094311680      SOLAR_LIKE\n",
       "5882042344287383936      SOLAR_LIKE\n",
       "5793290899490805888             ECL\n",
       "5573439907376720896      SOLAR_LIKE\n",
       "5575165556516524416      SOLAR_LIKE\n",
       "5764995891157361792      SOLAR_LIKE\n",
       "5765214766988828672      SOLAR_LIKE\n",
       "5258643234376355840      SOLAR_LIKE\n",
       "4784908921423280000      SOLAR_LIKE\n",
       "4785503589711841280             ECL\n",
       "4786188929053180288      SOLAR_LIKE\n",
       "4786667697647516544      SOLAR_LIKE\n",
       "4788572429743836160      SOLAR_LIKE\n",
       "4789620470483928192      SOLAR_LIKE\n",
       "4789620981583333760      SOLAR_LIKE\n",
       "4794805213267582336      SOLAR_LIKE\n",
       "4796218944705075584      SOLAR_LIKE\n",
       "4797516647598118912      SOLAR_LIKE\n",
       "4797965248342545024 DSCT|GDOR|SXPHE\n",
       "                ...             ...\n",
       "5792536565791371776              RS\n",
       "4813061852229522432      SOLAR_LIKE\n",
       "4814407242144736896      SOLAR_LIKE\n",
       "4817274321793438720      SOLAR_LIKE\n",
       "4819134214434956160      SOLAR_LIKE\n",
       "4823364344901462016      SOLAR_LIKE\n",
       "4825314363132677504      SOLAR_LIKE\n",
       "6355427660974875776      SOLAR_LIKE\n",
       "6355841524023560832      SOLAR_LIKE\n",
       "4611699556164330752      SOLAR_LIKE\n",
       "4611999757199224832      SOLAR_LIKE\n",
       "4970704812899201152      SOLAR_LIKE\n",
       "5515089718649940480      SOLAR_LIKE\n",
       "4977776631171372160      SOLAR_LIKE\n",
       "4978872431946648192      SOLAR_LIKE\n",
       "4986885500889922304      SOLAR_LIKE\n",
       "4987736729049009024      SOLAR_LIKE\n",
       "4987736729049009152      SOLAR_LIKE\n",
       "5301921936171751168      SOLAR_LIKE\n",
       "5242249481627141504      SOLAR_LIKE\n",
       "5327575019917853056      SOLAR_LIKE"
      ]
     },
     "execution_count": 19,
     "metadata": {},
     "output_type": "execute_result"
    }
   ],
   "source": [
    "stars[idMask]['id', 'class']"
   ]
  },
  {
   "cell_type": "markdown",
   "metadata": {},
   "source": [
    "The Gaia archive is again queried to get the Gaia variable classification"
   ]
  },
  {
   "cell_type": "code",
   "execution_count": 20,
   "metadata": {},
   "outputs": [
    {
     "name": "stdout",
     "output_type": "stream",
     "text": [
      "INFO: Query finished. [astroquery.utils.tap.core]\n",
      "Source 4802947444765742848 has variable classification RS\n"
     ]
    }
   ],
   "source": [
    "lcClass = ellipsoid.varClass(lcChoice)\n",
    "print(f'Source {lcChoice} has variable classification {lcClass[0]}')"
   ]
  },
  {
   "cell_type": "code",
   "execution_count": 21,
   "metadata": {
    "scrolled": false
   },
   "outputs": [
    {
     "name": "stdout",
     "output_type": "stream",
     "text": [
      "INFO: Query finished. [astroquery.utils.tap.core]\n"
     ]
    },
    {
     "data": {
      "text/html": [
       "<div><i>Table length=3</i>\n",
       "<table id=\"table140423713555536\" class=\"table-striped table-bordered table-condensed\">\n",
       "<thead><tr><th>best_class_name</th><th>source_id</th></tr></thead>\n",
       "<thead><tr><th>bytes30</th><th>int64</th></tr></thead>\n",
       "<tr><td>ECL</td><td>4785503589711841280</td></tr>\n",
       "<tr><td>ECL</td><td>4929395130250439168</td></tr>\n",
       "<tr><td>ECL</td><td>5793290899490805888</td></tr>\n",
       "</table></div>"
      ],
      "text/plain": [
       "<Table length=3>\n",
       "best_class_name      source_id     \n",
       "    bytes30            int64       \n",
       "--------------- -------------------\n",
       "            ECL 4785503589711841280\n",
       "            ECL 4929395130250439168\n",
       "            ECL 5793290899490805888"
      ]
     },
     "execution_count": 21,
     "metadata": {},
     "output_type": "execute_result"
    }
   ],
   "source": [
    "lcClasses = ellipsoid.varClasses(tuple(lcChoices))\n",
    "lcClasses[lcClasses['best_class_name'] == 'ECL']"
   ]
  },
  {
   "cell_type": "markdown",
   "metadata": {},
   "source": [
    "Pick a desired source ID"
   ]
  },
  {
   "cell_type": "code",
   "execution_count": 83,
   "metadata": {},
   "outputs": [],
   "source": [
    "lcID = 5793290899490805888\n",
    "id_mask = stars_x['id'] == lcID"
   ]
  },
  {
   "cell_type": "markdown",
   "metadata": {},
   "source": [
    "Get the ellipsoid crossing time for the selected star, as well as the light curve information"
   ]
  },
  {
   "cell_type": "code",
   "execution_count": 84,
   "metadata": {},
   "outputs": [],
   "source": [
    "xtime = ellipsoid.xTime(c1_x[id_mask])[0]"
   ]
  },
  {
   "cell_type": "code",
   "execution_count": 85,
   "metadata": {},
   "outputs": [],
   "source": [
    "lcDict = glcDict # choose g, bp, or rp light curve\n",
    "\n",
    "lcTimes = Time(lcDict[str(lcID)]['time'].value + 2455197.5, format='jd')\n",
    "lcFlux = lcDict[str(lcID)]['flux']\n",
    "lcFerr = lcDict[str(lcID)]['flux_error']\n",
    "lcMag = lcDict[str(lcID)]['mag']\n",
    "# time offset described at https://gea.esac.esa.int/archive/documentation/GDR3/Gaia_archive/chap_datamodel/sec_dm_photometry/ssec_dm_epoch_photometry.html"
   ]
  },
  {
   "cell_type": "markdown",
   "metadata": {},
   "source": [
    "#### Plot with crossing time"
   ]
  },
  {
   "cell_type": "code",
   "execution_count": 86,
   "metadata": {},
   "outputs": [
    {
     "data": {
      "text/plain": [
       "<matplotlib.collections.PathCollection at 0x7fb6f0c146d0>"
      ]
     },
     "execution_count": 86,
     "metadata": {},
     "output_type": "execute_result"
    },
    {
     "data": {
      "image/png": "[encoded data removed]",
      "text/plain": [
       "<Figure size 1500x450 with 1 Axes>"
      ]
     },
     "metadata": {
      "needs_background": "light"
     },
     "output_type": "display_data"
    }
   ],
   "source": [
    "plt.figure(figsize=[10,3], dpi=150)\n",
    "\n",
    "plt.vlines(xtime, ymin=min(lcFlux.value), ymax=max(lcFlux.value))\n",
    "plt.scatter(lcTimes.value, lcFlux)"
   ]
  },
  {
   "cell_type": "code",
   "execution_count": 87,
   "metadata": {},
   "outputs": [],
   "source": [
    "lcTS = TimeSeries(time = lcTimes, data={'flux' : lcFlux.value/np.nanmedian(lcFlux.value)})"
   ]
  },
  {
   "cell_type": "code",
   "execution_count": 88,
   "metadata": {},
   "outputs": [
    {
     "data": {
      "text/plain": [
       "Text(0, 0.5, 'Power')"
      ]
     },
     "execution_count": 88,
     "metadata": {},
     "output_type": "execute_result"
    },
    {
     "data": {
      "image/png": "[encoded data removed]",
      "text/plain": [
       "<Figure size 432x288 with 1 Axes>"
      ]
     },
     "metadata": {
      "needs_background": "light"
     },
     "output_type": "display_data"
    }
   ],
   "source": [
    "freqs = np.linspace(1/u.d, 10/u.d, 10000)\n",
    "power = LombScargle(lcTimes, lcFlux.value/np.nanmedian(lcFlux.value)).power(freqs)\n",
    "best_freq = freqs[np.argmax(power)]\n",
    "\n",
    "plt.plot(freqs, power, color='g')\n",
    "plt.title('Periodogram')\n",
    "plt.xlabel('Frequency (Cycles per Day)')\n",
    "plt.ylabel('Power')"
   ]
  },
  {
   "cell_type": "code",
   "execution_count": 89,
   "metadata": {},
   "outputs": [
    {
     "name": "stdout",
     "output_type": "stream",
     "text": [
      "0.14738657468824623 d\n"
     ]
    }
   ],
   "source": [
    "print(1/best_freq)"
   ]
  },
  {
   "cell_type": "code",
   "execution_count": 91,
   "metadata": {},
   "outputs": [
    {
     "name": "stdout",
     "output_type": "stream",
     "text": [
      "3.3924392439243922 1 / d\n"
     ]
    }
   ],
   "source": [
    "print(best_freq/2)"
   ]
  },
  {
   "cell_type": "markdown",
   "id": "7ba9c938",
   "metadata": {},
   "source": [
    "We use double the period because we are trying to fit a double gaussian"
   ]
  },
  {
   "cell_type": "code",
   "execution_count": 92,
   "metadata": {},
   "outputs": [],
   "source": [
    "lcTS_folded = lcTS.fold(period=2./best_freq, normalize_phase=True, epoch_phase=0)"
   ]
  },
  {
   "cell_type": "code",
   "execution_count": 93,
   "metadata": {},
   "outputs": [
    {
     "data": {
      "text/plain": [
       "Text(0, 0.5, 'Normalized Flux')"
      ]
     },
     "execution_count": 93,
     "metadata": {},
     "output_type": "execute_result"
    },
    {
     "data": {
      "image/png": "[encoded data removed]",
      "text/plain": [
       "<Figure size 800x500 with 1 Axes>"
      ]
     },
     "metadata": {
      "needs_background": "light"
     },
     "output_type": "display_data"
    }
   ],
   "source": [
    "fig = plt.figure(figsize=(8,5), dpi=100)\n",
    "\n",
    "plt.scatter(lcTS_folded['time'], lcTS_folded['flux'], c = 'g', s=5)\n",
    "plt.title('Data Folded at Peak Frequency')\n",
    "plt.xlabel('Phase')\n",
    "plt.ylabel('Normalized Flux')"
   ]
  },
  {
   "cell_type": "code",
   "execution_count": 37,
   "metadata": {},
   "outputs": [],
   "source": [
    "from scipy.optimize import curve_fit"
   ]
  },
  {
   "cell_type": "code",
   "execution_count": 38,
   "metadata": {},
   "outputs": [],
   "source": [
    "def negDoubleGaussian(x, mu1, sig1, d1, mu2, sig2, d2, b):\n",
    "    g1 = d1*np.exp(-np.power(x - mu1, 2.) / (2 * np.power(sig1, 2.)))\n",
    "    g2 = d2*np.exp(-np.power(x - mu2, 2.) / (2 * np.power(sig2, 2.)))\n",
    "    ndg = -g1 - g2 + b\n",
    "    return ndg"
   ]
  },
  {
   "cell_type": "code",
   "execution_count": 94,
   "metadata": {},
   "outputs": [],
   "source": [
    "p0 = np.array([-0.25, 0.1, 0.5, 0.2, 0.1, 0.5, 1.1])\n",
    "p1, cov1 = curve_fit(negDoubleGaussian, lcTS_folded['time'].value, lcTS_folded['flux'].value, p0)"
   ]
  },
  {
   "cell_type": "code",
   "execution_count": 95,
   "metadata": {},
   "outputs": [
    {
     "data": {
      "text/plain": [
       "[<matplotlib.lines.Line2D at 0x7fb6f0a9f3d0>]"
      ]
     },
     "execution_count": 95,
     "metadata": {},
     "output_type": "execute_result"
    },
    {
     "data": {
      "image/png": "[encoded data removed]",
      "text/plain": [
       "<Figure size 800x500 with 1 Axes>"
      ]
     },
     "metadata": {
      "needs_background": "light"
     },
     "output_type": "display_data"
    }
   ],
   "source": [
    "fig = plt.figure(figsize=(8,5), dpi=100)\n",
    "\n",
    "plt.scatter(lcTS_folded['time'], lcTS_folded['flux'], c = 'g', s=5)\n",
    "plt.title('Data Folded at Peak Frequency')\n",
    "plt.xlabel('Phase')\n",
    "plt.ylabel('Normalized Flux')\n",
    "\n",
    "xs = np.linspace(-0.5, 0.5, 100)\n",
    "plt.plot(xs, negDoubleGaussian(xs, p1[0], p1[1], p1[2], p1[3], p1[4], p1[5], p1[6]), c='g')"
   ]
  },
  {
   "cell_type": "markdown",
   "metadata": {},
   "source": [
    "### Compare Before and After"
   ]
  },
  {
   "cell_type": "code",
   "execution_count": 96,
   "metadata": {},
   "outputs": [],
   "source": [
    "right_mask = lcTimes.value > xtime\n",
    "left_mask = lcTimes.value <= xtime"
   ]
  },
  {
   "cell_type": "code",
   "execution_count": 97,
   "metadata": {},
   "outputs": [],
   "source": [
    "lcTS_right = TimeSeries(time = lcTimes[right_mask], data={'flux' : lcFlux[right_mask].value/np.nanmedian(lcFlux[right_mask].value)})\n",
    "lcTS_left = TimeSeries(time = lcTimes[left_mask], data={'flux' : lcFlux[left_mask].value/np.nanmedian(lcFlux[left_mask].value)})"
   ]
  },
  {
   "cell_type": "code",
   "execution_count": 98,
   "metadata": {},
   "outputs": [
    {
     "data": {
      "text/plain": [
       "Text(0, 0.5, 'Power')"
      ]
     },
     "execution_count": 98,
     "metadata": {},
     "output_type": "execute_result"
    },
    {
     "data": {
      "image/png": "[encoded data removed]",
      "text/plain": [
       "<Figure size 1000x500 with 2 Axes>"
      ]
     },
     "metadata": {
      "needs_background": "light"
     },
     "output_type": "display_data"
    }
   ],
   "source": [
    "freqs = np.linspace(1/u.d, 10/u.d, 10000)\n",
    "power_right = LombScargle(lcTimes[right_mask], lcFlux[right_mask].value/np.nanmedian(lcFlux[right_mask].value)).power(freqs)\n",
    "power_left = LombScargle(lcTimes[left_mask], lcFlux[left_mask].value/np.nanmedian(lcFlux[left_mask].value)).power(freqs)\n",
    "\n",
    "best_freq_right = freqs[np.argmax(power_right)]\n",
    "best_freq_left = freqs[np.argmax(power_left)]\n",
    "\n",
    "fig, ax = plt.subplots(1,2, figsize=[10,5], dpi=100, sharey=True)\n",
    "\n",
    "ax[0].plot(freqs, power_left, color='g')\n",
    "ax[1].plot(freqs, power_right, color='g')\n",
    "fig.suptitle('Periodogram')\n",
    "ax[0].set_xlabel('Frequency (Cycles per Day)')\n",
    "ax[1].set_xlabel('Frequency (Cycles per Day)')\n",
    "ax[0].set_ylabel('Power')"
   ]
  },
  {
   "cell_type": "code",
   "execution_count": 99,
   "metadata": {},
   "outputs": [],
   "source": [
    "lcTS_folded_right = lcTS_right.fold(period=2./best_freq_right, normalize_phase=True, epoch_phase=0)\n",
    "lcTS_folded_left = lcTS_left.fold(period=2./best_freq_left, normalize_phase=True, epoch_phase=0)"
   ]
  },
  {
   "cell_type": "code",
   "execution_count": 100,
   "metadata": {},
   "outputs": [
    {
     "data": {
      "text/plain": [
       "Text(0, 0.5, 'Normalized Flux')"
      ]
     },
     "execution_count": 100,
     "metadata": {},
     "output_type": "execute_result"
    },
    {
     "data": {
      "image/png": "[encoded data removed]",
      "text/plain": [
       "<Figure size 1000x500 with 2 Axes>"
      ]
     },
     "metadata": {
      "needs_background": "light"
     },
     "output_type": "display_data"
    }
   ],
   "source": [
    "fig, ax = plt.subplots(1, 2, figsize=(10,5), dpi=100, sharey=True)\n",
    "\n",
    "ax[0].scatter(lcTS_folded_left['time'], lcTS_folded_left['flux'], c = 'g', s=5)\n",
    "ax[1].scatter(lcTS_folded_right['time'], lcTS_folded_right['flux'], c = 'g', s=5)\n",
    "fig.suptitle('Data Folded at Peak Frequency')\n",
    "ax[0].set_xlabel('Phase')\n",
    "ax[1].set_xlabel('Phase')\n",
    "ax[0].set_ylabel('Normalized Flux')"
   ]
  },
  {
   "cell_type": "code",
   "execution_count": 101,
   "metadata": {},
   "outputs": [
    {
     "name": "stdout",
     "output_type": "stream",
     "text": [
      "Left Period: 0.29477314937649246 d\n",
      "Right Period: 0.2203490678302261 d\n"
     ]
    }
   ],
   "source": [
    "print(f'Left Period: {2./best_freq_left}')\n",
    "print(f'Right Period: {2./best_freq_right}')"
   ]
  },
  {
   "cell_type": "code",
   "execution_count": 103,
   "metadata": {},
   "outputs": [
    {
     "data": {
      "text/latex": [
       "$3.3924392 \\; \\mathrm{\\frac{1}{d}}$"
      ],
      "text/plain": [
       "<Quantity 3.39243924 1 / d>"
      ]
     },
     "execution_count": 103,
     "metadata": {},
     "output_type": "execute_result"
    }
   ],
   "source": [
    "best_freq_left/2"
   ]
  },
  {
   "cell_type": "code",
   "execution_count": null,
   "metadata": {},
   "outputs": [],
   "source": []
  }
 ],
 "metadata": {
  "kernelspec": {
   "display_name": "Python 3.7.6 ('setienv': venv)",
   "language": "python",
   "name": "python3"
  },
  "language_info": {
   "codemirror_mode": {
    "name": "ipython",
    "version": 3
   },
   "file_extension": ".py",
   "mimetype": "text/x-python",
   "name": "python",
   "nbconvert_exporter": "python",
   "pygments_lexer": "ipython3",
   "version": "3.7.6"
  },
  "vscode": {
   "interpreter": {
    "hash": "fb6b80a54a3eccef7ea4de141fea25c048297dd5c22e4be56c6305585d3ad9de"
   }
  }
 },
 "nbformat": 4,
 "nbformat_minor": 2
}
