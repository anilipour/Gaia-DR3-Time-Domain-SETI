{
 "cells": [
  {
   "cell_type": "markdown",
   "id": "1b2bb582",
   "metadata": {},
   "source": [
    "# Ellipsoid Lightcurves Period Comparison\n",
    "\n",
    "This notebook is used for comparing the periods before and after ellipsoid crossing times of variable stars."
   ]
  },
  {
   "cell_type": "code",
   "execution_count": 2,
   "id": "513b1efd",
   "metadata": {},
   "outputs": [],
   "source": [
    "%matplotlib inline\n",
    "\n",
    "import matplotlib.pyplot as plt\n",
    "import numpy as np\n",
    "\n",
    "from astropy.coordinates import SkyCoord\n",
    "import astropy.coordinates as coord\n",
    "from astropy import constants as const\n",
    "from astropy import units as u\n",
    "from astropy.time import Time\n",
    "from astropy.table import Table, QTable, vstack\n",
    "import os\n",
    "\n",
    "from astroquery.gaia import Gaia\n",
    "\n",
    "import sys\n",
    "sys.path.append('..')\n",
    "import ellipsoid\n",
    "import lightCurve\n",
    "\n",
    "from astropy.timeseries import LombScargle, TimeSeries\n",
    "import random"
   ]
  },
  {
   "cell_type": "markdown",
   "id": "7ada6034",
   "metadata": {},
   "source": [
    "### Read in the desired file and set global parameters\n",
    "If using the ```ellipsoid.py``` script to download Gaia data, the file names are:\n",
    "\n",
    "```GCNS_var``` -- variable stars in GCNS\n",
    "\n",
    "```Gaia_var``` -- variable stars in Gaia DR3\n",
    "\n",
    "```GCNS``` -- stars in GCNS\n",
    "\n",
    "```Gaia``` -- stars in Gaia DR3\n",
    "\n",
    "The tolerance is in lightyears, and the default start time is the time of the first Gaia alert"
   ]
  },
  {
   "cell_type": "code",
   "execution_count": 4,
   "id": "bbdea01f",
   "metadata": {},
   "outputs": [],
   "source": [
    "file_name = '../Gaia_var_class'\n",
    "c1, stars = ellipsoid.readFile(file_name)\n",
    "tol = 0.1"
   ]
  },
  {
   "cell_type": "markdown",
   "id": "4124e666",
   "metadata": {},
   "source": [
    "The default event (i.e. the second focal point of the SETI Ellipsoid) is SN 1987A by default, and its parameters are set below"
   ]
  },
  {
   "cell_type": "code",
   "execution_count": 5,
   "id": "6bdcaa3e",
   "metadata": {},
   "outputs": [],
   "source": [
    "#Properties of SN1987A\n",
    "t0 = Time({'year': 1987, 'month': 2, 'day': 23}, format='ymdhms')\n",
    "\n",
    "c0_radec = SkyCoord.from_name('SN 1987A')\n",
    "\n",
    "# Panagia (1999) https://ui.adsabs.harvard.edu/abs/1999IAUS..190..549P/abstract\n",
    "d0 = 51.4 * u.kpc\n",
    "d0_err = 1.2 * u.kpc\n",
    "\n",
    "c0 = SkyCoord(ra=c0_radec.ra, dec=c0_radec.dec, distance=d0)"
   ]
  },
  {
   "cell_type": "code",
   "execution_count": 6,
   "id": "61abb30c",
   "metadata": {},
   "outputs": [
    {
     "data": {
      "text/plain": [
       "9322432"
      ]
     },
     "execution_count": 6,
     "metadata": {},
     "output_type": "execute_result"
    }
   ],
   "source": [
    "len(c1)"
   ]
  },
  {
   "cell_type": "markdown",
   "id": "2e97cabb",
   "metadata": {},
   "source": [
    "### Get table of crossing stars\n",
    "\n",
    "```c1_x``` contains astropy SkyCoord objects of each star that has crossed (within some tolerance) the ellipsoid since the start time\n",
    "\n",
    "```stars_x``` is a table with all the relevant information for each of the stars"
   ]
  },
  {
   "cell_type": "code",
   "execution_count": 7,
   "id": "b30e2d27",
   "metadata": {
    "scrolled": true
   },
   "outputs": [
    {
     "name": "stdout",
     "output_type": "stream",
     "text": [
      "217 stars have crossed the ellipsoid during Gaia DR3 data collection time\n"
     ]
    }
   ],
   "source": [
    "c1_x, stars_x = ellipsoid.crossErrorEllipsoid(c0, t0, c1, stars, tol)\n",
    "print(f'{len(stars_x)} stars have crossed the ellipsoid during Gaia DR3 data collection time')"
   ]
  },
  {
   "cell_type": "markdown",
   "id": "1968e8bb",
   "metadata": {},
   "source": [
    "### Login to Gaia archive\n",
    "\n",
    "Creating and logging into a Gaia archive account allows for larger data downloads\n",
    "\n",
    "You can register here:\n",
    "https://www.cosmos.esa.int/web/gaia-users/register"
   ]
  },
  {
   "cell_type": "code",
   "execution_count": 8,
   "id": "f0cb1619",
   "metadata": {
    "scrolled": true
   },
   "outputs": [
    {
     "name": "stdout",
     "output_type": "stream",
     "text": [
      "INFO: Login to gaia TAP server [astroquery.gaia.core]\n",
      "User: anilipou\n",
      "Password: ········\n",
      "OK\n",
      "INFO: Login to gaia data server [astroquery.gaia.core]\n",
      "OK\n"
     ]
    }
   ],
   "source": [
    "Gaia.login()"
   ]
  },
  {
   "cell_type": "markdown",
   "id": "58afc493",
   "metadata": {},
   "source": [
    "### Split the desired stars into chunks of =< 5000 (if needed)\n",
    "\n",
    "Datalink, the protocol Gaia uses for ancillary data such as epoch photometry and spectra, can only retrieve data for up to 5000 sources at a time. This threshold is overcome by splitting the input into chunks of size =< 5000 sources."
   ]
  },
  {
   "cell_type": "code",
   "execution_count": 9,
   "id": "bff25979",
   "metadata": {},
   "outputs": [],
   "source": [
    "def chunks(lst, n):\n",
    "    \"\"\n",
    "    \"Split an input list into multiple chunks of size =< n\"\n",
    "    \"\"\n",
    "    for i in range(0, len(lst), n):\n",
    "        yield lst[i:i + n]"
   ]
  },
  {
   "cell_type": "code",
   "execution_count": 10,
   "id": "e7258e0a",
   "metadata": {},
   "outputs": [
    {
     "name": "stdout",
     "output_type": "stream",
     "text": [
      "* Input list contains 217 source_IDs\n",
      "* This list is split into 1 chunks of <= 5000 elements each\n"
     ]
    }
   ],
   "source": [
    "dl_threshold = 5000               # DataLink server threshold. It is not possible to download products for more than 5000 sources in one single call.\n",
    "ids          = stars_x['id']\n",
    "ids_chunks   = list(chunks(ids, dl_threshold))\n",
    "datalink_all = []\n",
    "\n",
    "\n",
    "print(f'* Input list contains {len(ids)} source_IDs')\n",
    "print(f'* This list is split into {len(ids_chunks)} chunks of <= {dl_threshold} elements each')"
   ]
  },
  {
   "cell_type": "markdown",
   "id": "7c01efa2",
   "metadata": {},
   "source": [
    "### Get lightcurves\n",
    "\n",
    "When downloading, light curves will all be in one table (merged).\n",
    "\n",
    "Can also save and read light curve tables once downloaded."
   ]
  },
  {
   "cell_type": "code",
   "execution_count": 12,
   "id": "94dd76af",
   "metadata": {
    "scrolled": true
   },
   "outputs": [
    {
     "name": "stdout",
     "output_type": "stream",
     "text": [
      "Downloading Chunk #1; N_files = 217\n"
     ]
    }
   ],
   "source": [
    "retrieval_type = 'EPOCH_PHOTOMETRY'        # Options are: 'EPOCH_PHOTOMETRY', 'MCMC_GSPPHOT', 'MCMC_MSC', 'XP_SAMPLED', 'XP_CONTINUOUS', 'RVS' \n",
    "data_structure = 'COMBINED'   # Options are: 'INDIVIDUAL', 'COMBINED', 'RAW' - but as explained above, we strongly recommend to use COMBINED for massive downloads.\n",
    "data_release   = 'Gaia DR3'   # Options are: 'Gaia DR3' (default), 'Gaia DR2'\n",
    "dl_key         = f'{retrieval_type}_{data_structure}.xml'\n",
    "\n",
    "\n",
    "ii = 0\n",
    "for chunk in ids_chunks:\n",
    "    ii = ii + 1\n",
    "    print(f'Downloading Chunk #{ii}; N_files = {len(chunk)}')\n",
    "    datalink  = Gaia.load_data(ids=chunk, data_release = data_release, retrieval_type=retrieval_type, format = 'votable', data_structure = data_structure)\n",
    "    datalink_all.append(datalink)"
   ]
  },
  {
   "cell_type": "code",
   "execution_count": 13,
   "id": "9054b344",
   "metadata": {},
   "outputs": [],
   "source": [
    "temp = [inp[dl_key][0].to_table() for inp in datalink_all]\n",
    "merged = vstack(temp)"
   ]
  },
  {
   "cell_type": "markdown",
   "id": "c471a654",
   "metadata": {},
   "source": [
    "Save downloaded table"
   ]
  },
  {
   "cell_type": "code",
   "execution_count": null,
   "id": "277c3568",
   "metadata": {},
   "outputs": [],
   "source": [
    "#merged_sf = '../GCNS_var_lc.xml'\n",
    "\n",
    "#if os.path.exists(merged_sf):\n",
    "#    os.remove(merged_sf)    \n",
    "#QTable(merged).write(merged_sf, format='votable')"
   ]
  },
  {
   "cell_type": "markdown",
   "id": "6a7190d4",
   "metadata": {},
   "source": [
    "Read saved table"
   ]
  },
  {
   "cell_type": "code",
   "execution_count": 13,
   "id": "af09963b",
   "metadata": {},
   "outputs": [
    {
     "name": "stderr",
     "output_type": "stream",
     "text": [
      "WARNING: UnitsWarning: Unit 'electron' not supported by the VOUnit standard.  [astropy.units.format.vounit]\n"
     ]
    }
   ],
   "source": [
    "#lc_merged = QTable.read(merged_sf, format='votable')"
   ]
  },
  {
   "cell_type": "markdown",
   "id": "4a1dbd51",
   "metadata": {},
   "source": [
    "### Make dictionaries for each band\n",
    "\n",
    "Each source is observed in three bands by Gaia (G, RP, BP), so here we create a dictionary for each band, with the keys equal to the source IDs and the values equal to the light curve table for that source and band"
   ]
  },
  {
   "cell_type": "code",
   "execution_count": 225,
   "id": "f0370e34",
   "metadata": {},
   "outputs": [],
   "source": [
    "glcDict = {}\n",
    "bplcDict = {}\n",
    "rplcDict = {}"
   ]
  },
  {
   "cell_type": "code",
   "execution_count": 226,
   "id": "9a5e2f23",
   "metadata": {},
   "outputs": [],
   "source": [
    "for sid in ids:\n",
    "    glc, bplc, rplc = lightCurve.getLC(merged, sid, 'G'), lightCurve.getLC(merged, sid, 'BP'), lightCurve.getLC(merged, sid, 'RP')\n",
    "    glcDict[str(sid)], bplcDict[str(sid)], rplcDict[str(sid)] = glc, bplc, rplc"
   ]
  },
  {
   "cell_type": "markdown",
   "id": "b74de8ec",
   "metadata": {},
   "source": [
    "### Check variable classes"
   ]
  },
  {
   "cell_type": "code",
   "execution_count": 24,
   "id": "7733ea13",
   "metadata": {},
   "outputs": [],
   "source": [
    "lcChoices = list(glcDict.keys())"
   ]
  },
  {
   "cell_type": "code",
   "execution_count": 274,
   "id": "0a7e370a",
   "metadata": {
    "scrolled": false
   },
   "outputs": [
    {
     "name": "stdout",
     "output_type": "stream",
     "text": [
      "INFO: Query finished. [astroquery.utils.tap.core]\n"
     ]
    }
   ],
   "source": [
    "lcClasses = ellipsoid.varClasses(tuple(lcChoices))"
   ]
  },
  {
   "cell_type": "markdown",
   "id": "fba12cb5",
   "metadata": {},
   "source": [
    "See the unique classes"
   ]
  },
  {
   "cell_type": "markdown",
   "id": "9c604a89",
   "metadata": {},
   "source": [
    "## Eclipsing Binaries"
   ]
  },
  {
   "cell_type": "code",
   "execution_count": 27,
   "id": "ddd7a5e9",
   "metadata": {},
   "outputs": [
    {
     "data": {
      "text/html": [
       "<div><i>Table length=3</i>\n",
       "<table id=\"table140642284040976\" class=\"table-striped table-bordered table-condensed\">\n",
       "<thead><tr><th>best_class_name</th><th>source_id</th></tr></thead>\n",
       "<thead><tr><th>bytes30</th><th>int64</th></tr></thead>\n",
       "<tr><td>ECL</td><td>4785503589711841280</td></tr>\n",
       "<tr><td>ECL</td><td>4929395130250439168</td></tr>\n",
       "<tr><td>ECL</td><td>5793290899490805888</td></tr>\n",
       "</table></div>"
      ],
      "text/plain": [
       "<Table length=3>\n",
       "best_class_name      source_id     \n",
       "    bytes30            int64       \n",
       "--------------- -------------------\n",
       "            ECL 4785503589711841280\n",
       "            ECL 4929395130250439168\n",
       "            ECL 5793290899490805888"
      ]
     },
     "execution_count": 27,
     "metadata": {},
     "output_type": "execute_result"
    }
   ],
   "source": [
    "lcClasses[lcClasses['best_class_name'] == 'ECL']"
   ]
  },
  {
   "cell_type": "markdown",
   "id": "8b46a35b",
   "metadata": {},
   "source": [
    "Pick a desired source ID"
   ]
  },
  {
   "cell_type": "code",
   "execution_count": 30,
   "id": "f3590d87",
   "metadata": {},
   "outputs": [],
   "source": [
    "lcID = 5793290899490805888\n",
    "id_mask = stars_x['id'] == lcID"
   ]
  },
  {
   "cell_type": "markdown",
   "id": "2a97c6d9",
   "metadata": {},
   "source": [
    "Get the ellipsoid crossing time for the selected star, as well as the light curve information"
   ]
  },
  {
   "cell_type": "code",
   "execution_count": 31,
   "id": "062da2d8",
   "metadata": {},
   "outputs": [],
   "source": [
    "xtime = ellipsoid.xTime(c1_x[id_mask])[0]"
   ]
  },
  {
   "cell_type": "code",
   "execution_count": 227,
   "id": "95bf14fa",
   "metadata": {},
   "outputs": [],
   "source": [
    "lcDict = glcDict # choose g, bp, or rp light curve\n",
    "\n",
    "lcTimes = Time(lcDict[str(lcID)]['time'].value + 2455197.5, format='jd')\n",
    "lcFlux = lcDict[str(lcID)]['flux']\n",
    "lcFerr = lcDict[str(lcID)]['flux_error']\n",
    "lcMag = lcDict[str(lcID)]['mag']\n",
    "# time offset described at https://gea.esac.esa.int/archive/documentation/GDR3/Gaia_archive/chap_datamodel/sec_dm_photometry/ssec_dm_epoch_photometry.html"
   ]
  },
  {
   "cell_type": "markdown",
   "id": "ece11481",
   "metadata": {},
   "source": [
    "#### Plot with crossing time"
   ]
  },
  {
   "cell_type": "code",
   "execution_count": 33,
   "id": "5f7ab977",
   "metadata": {},
   "outputs": [
    {
     "data": {
      "text/plain": [
       "<matplotlib.collections.PathCollection at 0x7fea0fdab0d0>"
      ]
     },
     "execution_count": 33,
     "metadata": {},
     "output_type": "execute_result"
    },
    {
     "data": {
      "image/png": "[encoded data removed]",
      "text/plain": [
       "<Figure size 1500x450 with 1 Axes>"
      ]
     },
     "metadata": {
      "needs_background": "light"
     },
     "output_type": "display_data"
    }
   ],
   "source": [
    "plt.figure(figsize=[10,3], dpi=150)\n",
    "\n",
    "plt.vlines(xtime, ymin=min(lcFlux.value), ymax=max(lcFlux.value))\n",
    "plt.scatter(lcTimes.value, lcFlux)"
   ]
  },
  {
   "cell_type": "code",
   "execution_count": 36,
   "id": "755c1caf",
   "metadata": {},
   "outputs": [],
   "source": [
    "lcTS = TimeSeries(time = lcTimes, data={'flux' : lcFlux/np.median(lcFlux), 'flux_error' : lcFerr/np.median(lcFlux)})"
   ]
  },
  {
   "cell_type": "code",
   "execution_count": 39,
   "id": "3315122b",
   "metadata": {},
   "outputs": [
    {
     "data": {
      "text/plain": [
       "Text(0, 0.5, 'Power')"
      ]
     },
     "execution_count": 39,
     "metadata": {},
     "output_type": "execute_result"
    },
    {
     "data": {
      "image/png": "[encoded data removed]",
      "text/plain": [
       "<Figure size 432x288 with 1 Axes>"
      ]
     },
     "metadata": {
      "needs_background": "light"
     },
     "output_type": "display_data"
    }
   ],
   "source": [
    "freqs = np.linspace(1/u.d, 10/u.d, 10000)\n",
    "power = LombScargle(lcTS.time, lcTS['flux'], lcTS['flux_error']).power(freqs)\n",
    "best_freq = freqs[np.argmax(power)]\n",
    "\n",
    "plt.plot(freqs, power, color='g')\n",
    "plt.title('Periodogram')\n",
    "plt.xlabel('Frequency (Cycles per Day)')\n",
    "plt.ylabel('Power')"
   ]
  },
  {
   "cell_type": "code",
   "execution_count": 89,
   "id": "fa18f8ad",
   "metadata": {},
   "outputs": [
    {
     "name": "stdout",
     "output_type": "stream",
     "text": [
      "0.14738657468824623 d\n"
     ]
    }
   ],
   "source": [
    "print(1/best_freq)"
   ]
  },
  {
   "cell_type": "code",
   "execution_count": 91,
   "id": "beebe7ec",
   "metadata": {},
   "outputs": [
    {
     "name": "stdout",
     "output_type": "stream",
     "text": [
      "3.3924392439243922 1 / d\n"
     ]
    }
   ],
   "source": [
    "print(best_freq/2)"
   ]
  },
  {
   "cell_type": "markdown",
   "id": "7ba9c938",
   "metadata": {},
   "source": [
    "We use double the period because we are trying to fit a double gaussian"
   ]
  },
  {
   "cell_type": "code",
   "execution_count": 92,
   "id": "b9ed36e5",
   "metadata": {},
   "outputs": [],
   "source": [
    "lcTS_folded = lcTS.fold(period=2./best_freq, normalize_phase=True, epoch_phase=0)"
   ]
  },
  {
   "cell_type": "code",
   "execution_count": 93,
   "id": "d12faf00",
   "metadata": {},
   "outputs": [
    {
     "data": {
      "text/plain": [
       "Text(0, 0.5, 'Normalized Flux')"
      ]
     },
     "execution_count": 93,
     "metadata": {},
     "output_type": "execute_result"
    },
    {
     "data": {
      "image/png": "[encoded data removed]",
      "text/plain": [
       "<Figure size 800x500 with 1 Axes>"
      ]
     },
     "metadata": {
      "needs_background": "light"
     },
     "output_type": "display_data"
    }
   ],
   "source": [
    "fig = plt.figure(figsize=(8,5), dpi=100)\n",
    "\n",
    "plt.scatter(lcTS_folded['time'], lcTS_folded['flux'], c = 'g', s=5)\n",
    "plt.title('Data Folded at Peak Frequency')\n",
    "plt.xlabel('Phase')\n",
    "plt.ylabel('Normalized Flux')"
   ]
  },
  {
   "cell_type": "code",
   "execution_count": 37,
   "id": "829ecc0d",
   "metadata": {},
   "outputs": [],
   "source": [
    "from scipy.optimize import curve_fit"
   ]
  },
  {
   "cell_type": "code",
   "execution_count": 38,
   "id": "a9b04f2e",
   "metadata": {},
   "outputs": [],
   "source": [
    "def negDoubleGaussian(x, mu1, sig1, d1, mu2, sig2, d2, b):\n",
    "    g1 = d1*np.exp(-np.power(x - mu1, 2.) / (2 * np.power(sig1, 2.)))\n",
    "    g2 = d2*np.exp(-np.power(x - mu2, 2.) / (2 * np.power(sig2, 2.)))\n",
    "    ndg = -g1 - g2 + b\n",
    "    return ndg"
   ]
  },
  {
   "cell_type": "code",
   "execution_count": 94,
   "id": "283938f1",
   "metadata": {},
   "outputs": [],
   "source": [
    "p0 = np.array([-0.25, 0.1, 0.5, 0.2, 0.1, 0.5, 1.1])\n",
    "p1, cov1 = curve_fit(negDoubleGaussian, lcTS_folded['time'].value, lcTS_folded['flux'].value, p0)"
   ]
  },
  {
   "cell_type": "code",
   "execution_count": 95,
   "id": "8c40786d",
   "metadata": {},
   "outputs": [
    {
     "data": {
      "text/plain": [
       "[<matplotlib.lines.Line2D at 0x7fb6f0a9f3d0>]"
      ]
     },
     "execution_count": 95,
     "metadata": {},
     "output_type": "execute_result"
    },
    {
     "data": {
      "image/png": "[encoded data removed]",
      "text/plain": [
       "<Figure size 800x500 with 1 Axes>"
      ]
     },
     "metadata": {
      "needs_background": "light"
     },
     "output_type": "display_data"
    }
   ],
   "source": [
    "fig = plt.figure(figsize=(8,5), dpi=100)\n",
    "\n",
    "plt.scatter(lcTS_folded['time'], lcTS_folded['flux'], c = 'g', s=5)\n",
    "plt.title('Data Folded at Peak Frequency')\n",
    "plt.xlabel('Phase')\n",
    "plt.ylabel('Normalized Flux')\n",
    "\n",
    "xs = np.linspace(-0.5, 0.5, 100)\n",
    "plt.plot(xs, negDoubleGaussian(xs, p1[0], p1[1], p1[2], p1[3], p1[4], p1[5], p1[6]), c='g')"
   ]
  },
  {
   "cell_type": "markdown",
   "id": "2acbd7b2",
   "metadata": {},
   "source": [
    "### Compare Before and After"
   ]
  },
  {
   "cell_type": "code",
   "execution_count": 107,
   "id": "9f4474fc",
   "metadata": {},
   "outputs": [],
   "source": [
    "right_mask = lcTimes.value > xtime\n",
    "left_mask = lcTimes.value <= xtime"
   ]
  },
  {
   "cell_type": "code",
   "execution_count": 258,
   "id": "98f98d96",
   "metadata": {},
   "outputs": [],
   "source": [
    "lcTS_right = TimeSeries(time = lcTimes[right_mask], data={'flux' : lcFlux[right_mask]/np.median(lcFlux[right_mask]), 'flux_error' : lcFerr[right_mask]/np.median(lcFlux[right_mask])})\n",
    "lcTS_left = TimeSeries(time = lcTimes[left_mask], data={'flux' : lcFlux[left_mask]/np.median(lcFlux[left_mask]), 'flux_error' : lcFerr[left_mask]/np.median(lcFlux[left_mask])})"
   ]
  },
  {
   "cell_type": "code",
   "execution_count": 260,
   "id": "14644f92",
   "metadata": {},
   "outputs": [
    {
     "data": {
      "text/plain": [
       "Text(0, 0.5, 'Power')"
      ]
     },
     "execution_count": 260,
     "metadata": {},
     "output_type": "execute_result"
    },
    {
     "data": {
      "image/png": "[encoded data removed]",
      "text/plain": [
       "<Figure size 1000x500 with 2 Axes>"
      ]
     },
     "metadata": {
      "needs_background": "light"
     },
     "output_type": "display_data"
    }
   ],
   "source": [
    "freqs = np.linspace(1/u.d, 10/u.d, 10000)\n",
    "power_right = LombScargle(lcTS_right.time, lcTS_right['flux'], lcTS_right['flux_error']).power(freqs)\n",
    "power_left = LombScargle(lcTS_left.time, lcTS_left['flux'], lcTS_left['flux_error']).power(freqs)\n",
    "\n",
    "best_freq_right = freqs[np.argmax(power_right)]\n",
    "best_freq_left = freqs[np.argmax(power_left)]\n",
    "\n",
    "fig, ax = plt.subplots(1,2, figsize=[10,5], dpi=100, sharey=True)\n",
    "\n",
    "ax[0].plot(freqs, power_left, color='g')\n",
    "ax[1].plot(freqs, power_right, color='g')\n",
    "fig.suptitle('Periodogram')\n",
    "ax[0].set_xlabel('Frequency (Cycles per Day)')\n",
    "ax[1].set_xlabel('Frequency (Cycles per Day)')\n",
    "ax[0].set_ylabel('Power')"
   ]
  },
  {
   "cell_type": "code",
   "execution_count": 99,
   "id": "b75112c7",
   "metadata": {},
   "outputs": [],
   "source": [
    "lcTS_folded_right = lcTS_right.fold(period=2./best_freq_right, normalize_phase=True, epoch_phase=0)\n",
    "lcTS_folded_left = lcTS_left.fold(period=2./best_freq_left, normalize_phase=True, epoch_phase=0)"
   ]
  },
  {
   "cell_type": "code",
   "execution_count": 100,
   "id": "af8b78bf",
   "metadata": {},
   "outputs": [
    {
     "data": {
      "text/plain": [
       "Text(0, 0.5, 'Normalized Flux')"
      ]
     },
     "execution_count": 100,
     "metadata": {},
     "output_type": "execute_result"
    },
    {
     "data": {
      "image/png": "[encoded data removed]",
      "text/plain": [
       "<Figure size 1000x500 with 2 Axes>"
      ]
     },
     "metadata": {
      "needs_background": "light"
     },
     "output_type": "display_data"
    }
   ],
   "source": [
    "fig, ax = plt.subplots(1, 2, figsize=(10,5), dpi=100, sharey=True)\n",
    "\n",
    "ax[0].scatter(lcTS_folded_left['time'], lcTS_folded_left['flux'], c = 'g', s=5)\n",
    "ax[1].scatter(lcTS_folded_right['time'], lcTS_folded_right['flux'], c = 'g', s=5)\n",
    "fig.suptitle('Data Folded at Peak Frequency')\n",
    "ax[0].set_xlabel('Phase')\n",
    "ax[1].set_xlabel('Phase')\n",
    "ax[0].set_ylabel('Normalized Flux')"
   ]
  },
  {
   "cell_type": "code",
   "execution_count": 101,
   "id": "9ea21589",
   "metadata": {},
   "outputs": [
    {
     "name": "stdout",
     "output_type": "stream",
     "text": [
      "Left Period: 0.29477314937649246 d\n",
      "Right Period: 0.2203490678302261 d\n"
     ]
    }
   ],
   "source": [
    "print(f'Left Period: {2./best_freq_left}')\n",
    "print(f'Right Period: {2./best_freq_right}')"
   ]
  },
  {
   "cell_type": "code",
   "execution_count": 103,
   "id": "a280b85e",
   "metadata": {},
   "outputs": [
    {
     "data": {
      "text/latex": [
       "$3.3924392 \\; \\mathrm{\\frac{1}{d}}$"
      ],
      "text/plain": [
       "<Quantity 3.39243924 1 / d>"
      ]
     },
     "execution_count": 103,
     "metadata": {},
     "output_type": "execute_result"
    }
   ],
   "source": [
    "best_freq_left/2"
   ]
  },
  {
   "cell_type": "markdown",
   "id": "2295b7c4",
   "metadata": {},
   "source": [
    "### Produce periodograms for all 217 stars"
   ]
  },
  {
   "cell_type": "code",
   "execution_count": 296,
   "id": "13274746",
   "metadata": {},
   "outputs": [
    {
     "data": {
      "text/plain": [
       "<module 'lightCurve' from '../lightCurve.py'>"
      ]
     },
     "execution_count": 296,
     "metadata": {},
     "output_type": "execute_result"
    }
   ],
   "source": [
    "importlib.reload(lightCurve)"
   ]
  },
  {
   "cell_type": "code",
   "execution_count": 278,
   "id": "d59f461f",
   "metadata": {},
   "outputs": [
    {
     "data": {
      "text/plain": [
       "{'DSCT|GDOR|SXPHE', 'ECL', 'RS', 'SOLAR_LIKE', 'WD'}"
      ]
     },
     "execution_count": 278,
     "metadata": {},
     "output_type": "execute_result"
    }
   ],
   "source": [
    "set(lcClasses['best_class_name'])"
   ]
  },
  {
   "cell_type": "code",
   "execution_count": 276,
   "id": "2130d4cc",
   "metadata": {},
   "outputs": [],
   "source": [
    "# lightCurve.comparePeriodPlot(glcDict, lcID, stars_x[id_mask], c1_x[id_mask], save=True, savefolder='Periodograms')"
   ]
  },
  {
   "cell_type": "code",
   "execution_count": 297,
   "id": "573312a1",
   "metadata": {},
   "outputs": [],
   "source": [
    "for row in lcClasses[lcClasses['best_class_name'] == 'ECL']:\n",
    "    lcID = row['source_id']\n",
    "    id_mask = stars_x['id'] == lcID\n",
    "    lightCurve.comparePeriodPlot(glcDict, lcID, stars_x[id_mask], c1_x[id_mask], save=True, savefolder='Periodograms/ECL')"
   ]
  },
  {
   "cell_type": "code",
   "execution_count": 301,
   "id": "57128ca2",
   "metadata": {
    "scrolled": true
   },
   "outputs": [
    {
     "name": "stdout",
     "output_type": "stream",
     "text": [
      "3177407910705445888\n",
      "4858215766828595968\n",
      "4873746132349363328\n",
      "5125414998097353600\n",
      "5152365363828101632\n",
      "5330165258852192896\n",
      "5366183335638901888\n",
      "5407414407508441856\n",
      "5544523919794889088\n",
      "5878380317661078912\n"
     ]
    }
   ],
   "source": [
    "for row in lcClasses[lcClasses['best_class_name'] == 'SOLAR_LIKE']:\n",
    "    lcID = row['source_id']\n",
    "    id_mask = stars_x['id'] == lcID\n",
    "    try:\n",
    "        lightCurve.comparePeriodPlot(glcDict, lcID, stars_x[id_mask], c1_x[id_mask], save=True, savefolder='Periodograms/Solar')\n",
    "    except:\n",
    "        print(lcID)"
   ]
  },
  {
   "cell_type": "code",
   "execution_count": 298,
   "id": "8420032d",
   "metadata": {},
   "outputs": [],
   "source": [
    "for row in lcClasses[lcClasses['best_class_name'] == 'DSCT|GDOR|SXPHE']:\n",
    "    lcID = row['source_id']\n",
    "    id_mask = stars_x['id'] == lcID\n",
    "    try:\n",
    "        lightCurve.comparePeriodPlot(glcDict, lcID, stars_x[id_mask], c1_x[id_mask], save=True, savefolder='Periodograms/DSCT')\n",
    "    except:\n",
    "        print(lcID)"
   ]
  },
  {
   "cell_type": "code",
   "execution_count": 299,
   "id": "5cf3a18d",
   "metadata": {},
   "outputs": [
    {
     "name": "stdout",
     "output_type": "stream",
     "text": [
      "5811866422581688320\n"
     ]
    }
   ],
   "source": [
    "for row in lcClasses[lcClasses['best_class_name'] == 'RS']:\n",
    "    lcID = row['source_id']\n",
    "    id_mask = stars_x['id'] == lcID\n",
    "    try:\n",
    "        lightCurve.comparePeriodPlot(glcDict, lcID, stars_x[id_mask], c1_x[id_mask], save=True, savefolder='Periodograms/RS')\n",
    "    except:\n",
    "        print(lcID)"
   ]
  },
  {
   "cell_type": "code",
   "execution_count": 300,
   "id": "95778a2c",
   "metadata": {},
   "outputs": [
    {
     "name": "stdout",
     "output_type": "stream",
     "text": [
      "5620763437599189376\n",
      "6462911897617050240\n"
     ]
    }
   ],
   "source": [
    "for row in lcClasses[lcClasses['best_class_name'] == 'WD']:\n",
    "    lcID = row['source_id']\n",
    "    id_mask = stars_x['id'] == lcID\n",
    "    try:\n",
    "        lightCurve.comparePeriodPlot(glcDict, lcID, stars_x[id_mask], c1_x[id_mask], save=True, savefolder='Periodograms/WD')\n",
    "    except:\n",
    "        print(lcID)"
   ]
  },
  {
   "cell_type": "code",
   "execution_count": null,
   "id": "a4fb7ba0",
   "metadata": {},
   "outputs": [],
   "source": []
  }
 ],
 "metadata": {
  "kernelspec": {
   "display_name": "setienv",
   "language": "python",
   "name": "setienv"
  },
  "language_info": {
   "codemirror_mode": {
    "name": "ipython",
    "version": 3
   },
   "file_extension": ".py",
   "mimetype": "text/x-python",
   "name": "python",
   "nbconvert_exporter": "python",
   "pygments_lexer": "ipython3",
   "version": "3.7.6"
  }
 },
 "nbformat": 4,
 "nbformat_minor": 5
}
